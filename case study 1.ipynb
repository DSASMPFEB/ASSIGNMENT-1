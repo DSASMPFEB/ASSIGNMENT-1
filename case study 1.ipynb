{
 "cells": [
  {
   "cell_type": "markdown",
   "id": "3ee5d989-e287-4cf7-ae51-82067e4eb680",
   "metadata": {},
   "source": [
    "1. Basic Array Operations\n",
    "Convert the mpg column into a NumPy array and calculate:\n",
    "○ The mean, median, and standard deviation of mpg.\n",
    "○ The number of cars with mpg greater than 25."
   ]
  },
  {
   "cell_type": "code",
   "execution_count": 1,
   "id": "f4e5113c-ed64-44be-bd10-0a2591b416e0",
   "metadata": {},
   "outputs": [],
   "source": [
    "import numpy as np"
   ]
  },
  {
   "cell_type": "code",
   "execution_count": 2,
   "id": "418153c3-ae49-4ab8-96b1-129f23cbb420",
   "metadata": {},
   "outputs": [],
   "source": [
    "import pandas as pd"
   ]
  },
  {
   "cell_type": "code",
   "execution_count": 3,
   "id": "aab5b4bc-0fe3-499f-8f93-099fe8dc5a30",
   "metadata": {},
   "outputs": [],
   "source": [
    "data = pd.read_csv(r\"C:\\Users\\kevin\\OneDrive\\Documents\\anna class\\DATA SETS\\auto-mpg.csv\")"
   ]
  },
  {
   "cell_type": "code",
   "execution_count": 4,
   "id": "a48d3292-9a49-4060-ad87-afca9e134669",
   "metadata": {},
   "outputs": [
    {
     "data": {
      "text/html": [
       "<div>\n",
       "<style scoped>\n",
       "    .dataframe tbody tr th:only-of-type {\n",
       "        vertical-align: middle;\n",
       "    }\n",
       "\n",
       "    .dataframe tbody tr th {\n",
       "        vertical-align: top;\n",
       "    }\n",
       "\n",
       "    .dataframe thead th {\n",
       "        text-align: right;\n",
       "    }\n",
       "</style>\n",
       "<table border=\"1\" class=\"dataframe\">\n",
       "  <thead>\n",
       "    <tr style=\"text-align: right;\">\n",
       "      <th></th>\n",
       "      <th>mpg</th>\n",
       "      <th>cylinders</th>\n",
       "      <th>displacement</th>\n",
       "      <th>horsepower</th>\n",
       "      <th>weight</th>\n",
       "      <th>acceleration</th>\n",
       "      <th>model year</th>\n",
       "      <th>origin</th>\n",
       "      <th>car name</th>\n",
       "    </tr>\n",
       "  </thead>\n",
       "  <tbody>\n",
       "    <tr>\n",
       "      <th>0</th>\n",
       "      <td>18.0</td>\n",
       "      <td>8</td>\n",
       "      <td>307.0</td>\n",
       "      <td>130</td>\n",
       "      <td>3504</td>\n",
       "      <td>12.0</td>\n",
       "      <td>70</td>\n",
       "      <td>1</td>\n",
       "      <td>chevrolet chevelle malibu</td>\n",
       "    </tr>\n",
       "    <tr>\n",
       "      <th>1</th>\n",
       "      <td>15.0</td>\n",
       "      <td>8</td>\n",
       "      <td>350.0</td>\n",
       "      <td>165</td>\n",
       "      <td>3693</td>\n",
       "      <td>11.5</td>\n",
       "      <td>70</td>\n",
       "      <td>1</td>\n",
       "      <td>buick skylark 320</td>\n",
       "    </tr>\n",
       "    <tr>\n",
       "      <th>2</th>\n",
       "      <td>18.0</td>\n",
       "      <td>8</td>\n",
       "      <td>318.0</td>\n",
       "      <td>150</td>\n",
       "      <td>3436</td>\n",
       "      <td>11.0</td>\n",
       "      <td>70</td>\n",
       "      <td>1</td>\n",
       "      <td>plymouth satellite</td>\n",
       "    </tr>\n",
       "    <tr>\n",
       "      <th>3</th>\n",
       "      <td>16.0</td>\n",
       "      <td>8</td>\n",
       "      <td>304.0</td>\n",
       "      <td>150</td>\n",
       "      <td>3433</td>\n",
       "      <td>12.0</td>\n",
       "      <td>70</td>\n",
       "      <td>1</td>\n",
       "      <td>amc rebel sst</td>\n",
       "    </tr>\n",
       "    <tr>\n",
       "      <th>4</th>\n",
       "      <td>17.0</td>\n",
       "      <td>8</td>\n",
       "      <td>302.0</td>\n",
       "      <td>140</td>\n",
       "      <td>3449</td>\n",
       "      <td>10.5</td>\n",
       "      <td>70</td>\n",
       "      <td>1</td>\n",
       "      <td>ford torino</td>\n",
       "    </tr>\n",
       "    <tr>\n",
       "      <th>...</th>\n",
       "      <td>...</td>\n",
       "      <td>...</td>\n",
       "      <td>...</td>\n",
       "      <td>...</td>\n",
       "      <td>...</td>\n",
       "      <td>...</td>\n",
       "      <td>...</td>\n",
       "      <td>...</td>\n",
       "      <td>...</td>\n",
       "    </tr>\n",
       "    <tr>\n",
       "      <th>393</th>\n",
       "      <td>27.0</td>\n",
       "      <td>4</td>\n",
       "      <td>140.0</td>\n",
       "      <td>86</td>\n",
       "      <td>2790</td>\n",
       "      <td>15.6</td>\n",
       "      <td>82</td>\n",
       "      <td>1</td>\n",
       "      <td>ford mustang gl</td>\n",
       "    </tr>\n",
       "    <tr>\n",
       "      <th>394</th>\n",
       "      <td>44.0</td>\n",
       "      <td>4</td>\n",
       "      <td>97.0</td>\n",
       "      <td>52</td>\n",
       "      <td>2130</td>\n",
       "      <td>24.6</td>\n",
       "      <td>82</td>\n",
       "      <td>2</td>\n",
       "      <td>vw pickup</td>\n",
       "    </tr>\n",
       "    <tr>\n",
       "      <th>395</th>\n",
       "      <td>32.0</td>\n",
       "      <td>4</td>\n",
       "      <td>135.0</td>\n",
       "      <td>84</td>\n",
       "      <td>2295</td>\n",
       "      <td>11.6</td>\n",
       "      <td>82</td>\n",
       "      <td>1</td>\n",
       "      <td>dodge rampage</td>\n",
       "    </tr>\n",
       "    <tr>\n",
       "      <th>396</th>\n",
       "      <td>28.0</td>\n",
       "      <td>4</td>\n",
       "      <td>120.0</td>\n",
       "      <td>79</td>\n",
       "      <td>2625</td>\n",
       "      <td>18.6</td>\n",
       "      <td>82</td>\n",
       "      <td>1</td>\n",
       "      <td>ford ranger</td>\n",
       "    </tr>\n",
       "    <tr>\n",
       "      <th>397</th>\n",
       "      <td>31.0</td>\n",
       "      <td>4</td>\n",
       "      <td>119.0</td>\n",
       "      <td>82</td>\n",
       "      <td>2720</td>\n",
       "      <td>19.4</td>\n",
       "      <td>82</td>\n",
       "      <td>1</td>\n",
       "      <td>chevy s-10</td>\n",
       "    </tr>\n",
       "  </tbody>\n",
       "</table>\n",
       "<p>398 rows × 9 columns</p>\n",
       "</div>"
      ],
      "text/plain": [
       "      mpg  cylinders  displacement horsepower  weight  acceleration  \\\n",
       "0    18.0          8         307.0        130    3504          12.0   \n",
       "1    15.0          8         350.0        165    3693          11.5   \n",
       "2    18.0          8         318.0        150    3436          11.0   \n",
       "3    16.0          8         304.0        150    3433          12.0   \n",
       "4    17.0          8         302.0        140    3449          10.5   \n",
       "..    ...        ...           ...        ...     ...           ...   \n",
       "393  27.0          4         140.0         86    2790          15.6   \n",
       "394  44.0          4          97.0         52    2130          24.6   \n",
       "395  32.0          4         135.0         84    2295          11.6   \n",
       "396  28.0          4         120.0         79    2625          18.6   \n",
       "397  31.0          4         119.0         82    2720          19.4   \n",
       "\n",
       "     model year  origin                   car name  \n",
       "0            70       1  chevrolet chevelle malibu  \n",
       "1            70       1          buick skylark 320  \n",
       "2            70       1         plymouth satellite  \n",
       "3            70       1              amc rebel sst  \n",
       "4            70       1                ford torino  \n",
       "..          ...     ...                        ...  \n",
       "393          82       1            ford mustang gl  \n",
       "394          82       2                  vw pickup  \n",
       "395          82       1              dodge rampage  \n",
       "396          82       1                ford ranger  \n",
       "397          82       1                 chevy s-10  \n",
       "\n",
       "[398 rows x 9 columns]"
      ]
     },
     "execution_count": 4,
     "metadata": {},
     "output_type": "execute_result"
    }
   ],
   "source": [
    "data"
   ]
  },
  {
   "cell_type": "code",
   "execution_count": 5,
   "id": "f72e4629-2882-402d-9255-af684aa9fd4b",
   "metadata": {},
   "outputs": [],
   "source": [
    "mpg_array = np.array(data['mpg'])"
   ]
  },
  {
   "cell_type": "code",
   "execution_count": 6,
   "id": "007b2bfe-1d0d-48b3-866a-95b488a009b1",
   "metadata": {},
   "outputs": [
    {
     "data": {
      "text/plain": [
       "array([18. , 15. , 18. , 16. , 17. , 15. , 14. , 14. , 14. , 15. , 15. ,\n",
       "       14. , 15. , 14. , 24. , 22. , 18. , 21. , 27. , 26. , 25. , 24. ,\n",
       "       25. , 26. , 21. , 10. , 10. , 11. ,  9. , 27. , 28. , 25. , 25. ,\n",
       "       19. , 16. , 17. , 19. , 18. , 14. , 14. , 14. , 14. , 12. , 13. ,\n",
       "       13. , 18. , 22. , 19. , 18. , 23. , 28. , 30. , 30. , 31. , 35. ,\n",
       "       27. , 26. , 24. , 25. , 23. , 20. , 21. , 13. , 14. , 15. , 14. ,\n",
       "       17. , 11. , 13. , 12. , 13. , 19. , 15. , 13. , 13. , 14. , 18. ,\n",
       "       22. , 21. , 26. , 22. , 28. , 23. , 28. , 27. , 13. , 14. , 13. ,\n",
       "       14. , 15. , 12. , 13. , 13. , 14. , 13. , 12. , 13. , 18. , 16. ,\n",
       "       18. , 18. , 23. , 26. , 11. , 12. , 13. , 12. , 18. , 20. , 21. ,\n",
       "       22. , 18. , 19. , 21. , 26. , 15. , 16. , 29. , 24. , 20. , 19. ,\n",
       "       15. , 24. , 20. , 11. , 20. , 21. , 19. , 15. , 31. , 26. , 32. ,\n",
       "       25. , 16. , 16. , 18. , 16. , 13. , 14. , 14. , 14. , 29. , 26. ,\n",
       "       26. , 31. , 32. , 28. , 24. , 26. , 24. , 26. , 31. , 19. , 18. ,\n",
       "       15. , 15. , 16. , 15. , 16. , 14. , 17. , 16. , 15. , 18. , 21. ,\n",
       "       20. , 13. , 29. , 23. , 20. , 23. , 24. , 25. , 24. , 18. , 29. ,\n",
       "       19. , 23. , 23. , 22. , 25. , 33. , 28. , 25. , 25. , 26. , 27. ,\n",
       "       17.5, 16. , 15.5, 14.5, 22. , 22. , 24. , 22.5, 29. , 24.5, 29. ,\n",
       "       33. , 20. , 18. , 18.5, 17.5, 29.5, 32. , 28. , 26.5, 20. , 13. ,\n",
       "       19. , 19. , 16.5, 16.5, 13. , 13. , 13. , 31.5, 30. , 36. , 25.5,\n",
       "       33.5, 17.5, 17. , 15.5, 15. , 17.5, 20.5, 19. , 18.5, 16. , 15.5,\n",
       "       15.5, 16. , 29. , 24.5, 26. , 25.5, 30.5, 33.5, 30. , 30.5, 22. ,\n",
       "       21.5, 21.5, 43.1, 36.1, 32.8, 39.4, 36.1, 19.9, 19.4, 20.2, 19.2,\n",
       "       20.5, 20.2, 25.1, 20.5, 19.4, 20.6, 20.8, 18.6, 18.1, 19.2, 17.7,\n",
       "       18.1, 17.5, 30. , 27.5, 27.2, 30.9, 21.1, 23.2, 23.8, 23.9, 20.3,\n",
       "       17. , 21.6, 16.2, 31.5, 29.5, 21.5, 19.8, 22.3, 20.2, 20.6, 17. ,\n",
       "       17.6, 16.5, 18.2, 16.9, 15.5, 19.2, 18.5, 31.9, 34.1, 35.7, 27.4,\n",
       "       25.4, 23. , 27.2, 23.9, 34.2, 34.5, 31.8, 37.3, 28.4, 28.8, 26.8,\n",
       "       33.5, 41.5, 38.1, 32.1, 37.2, 28. , 26.4, 24.3, 19.1, 34.3, 29.8,\n",
       "       31.3, 37. , 32.2, 46.6, 27.9, 40.8, 44.3, 43.4, 36.4, 30. , 44.6,\n",
       "       40.9, 33.8, 29.8, 32.7, 23.7, 35. , 23.6, 32.4, 27.2, 26.6, 25.8,\n",
       "       23.5, 30. , 39.1, 39. , 35.1, 32.3, 37. , 37.7, 34.1, 34.7, 34.4,\n",
       "       29.9, 33. , 34.5, 33.7, 32.4, 32.9, 31.6, 28.1, 30.7, 25.4, 24.2,\n",
       "       22.4, 26.6, 20.2, 17.6, 28. , 27. , 34. , 31. , 29. , 27. , 24. ,\n",
       "       23. , 36. , 37. , 31. , 38. , 36. , 36. , 36. , 34. , 38. , 32. ,\n",
       "       38. , 25. , 38. , 26. , 22. , 32. , 36. , 27. , 27. , 44. , 32. ,\n",
       "       28. , 31. ])"
      ]
     },
     "execution_count": 6,
     "metadata": {},
     "output_type": "execute_result"
    }
   ],
   "source": [
    "mpg_array"
   ]
  },
  {
   "cell_type": "code",
   "execution_count": 7,
   "id": "7da4a00e-48e6-4978-ad9b-ab1f8067592a",
   "metadata": {},
   "outputs": [
    {
     "data": {
      "text/plain": [
       "23.514572864321607"
      ]
     },
     "execution_count": 7,
     "metadata": {},
     "output_type": "execute_result"
    }
   ],
   "source": [
    "np.mean(mpg_array)"
   ]
  },
  {
   "cell_type": "code",
   "execution_count": 8,
   "id": "ae197318-b2f6-47e8-b640-15c8c52f557a",
   "metadata": {},
   "outputs": [
    {
     "data": {
      "text/plain": [
       "23.0"
      ]
     },
     "execution_count": 8,
     "metadata": {},
     "output_type": "execute_result"
    }
   ],
   "source": [
    "np.median(mpg_array)"
   ]
  },
  {
   "cell_type": "code",
   "execution_count": 9,
   "id": "b3afcee2-45b1-494f-aaea-18e6c5ee8781",
   "metadata": {},
   "outputs": [
    {
     "data": {
      "text/plain": [
       "7.806159061274433"
      ]
     },
     "execution_count": 9,
     "metadata": {},
     "output_type": "execute_result"
    }
   ],
   "source": [
    "np.std(mpg_array)"
   ]
  },
  {
   "cell_type": "code",
   "execution_count": 10,
   "id": "be81b196-179b-42df-8bf1-794635c117ca",
   "metadata": {},
   "outputs": [],
   "source": [
    "data1 = data[data['mpg'] >25]"
   ]
  },
  {
   "cell_type": "code",
   "execution_count": 11,
   "id": "38f29959-1c6c-446f-b3c3-57f384fab353",
   "metadata": {},
   "outputs": [
    {
     "data": {
      "text/html": [
       "<div>\n",
       "<style scoped>\n",
       "    .dataframe tbody tr th:only-of-type {\n",
       "        vertical-align: middle;\n",
       "    }\n",
       "\n",
       "    .dataframe tbody tr th {\n",
       "        vertical-align: top;\n",
       "    }\n",
       "\n",
       "    .dataframe thead th {\n",
       "        text-align: right;\n",
       "    }\n",
       "</style>\n",
       "<table border=\"1\" class=\"dataframe\">\n",
       "  <thead>\n",
       "    <tr style=\"text-align: right;\">\n",
       "      <th></th>\n",
       "      <th>mpg</th>\n",
       "      <th>cylinders</th>\n",
       "      <th>displacement</th>\n",
       "      <th>horsepower</th>\n",
       "      <th>weight</th>\n",
       "      <th>acceleration</th>\n",
       "      <th>model year</th>\n",
       "      <th>origin</th>\n",
       "      <th>car name</th>\n",
       "    </tr>\n",
       "  </thead>\n",
       "  <tbody>\n",
       "    <tr>\n",
       "      <th>18</th>\n",
       "      <td>27.0</td>\n",
       "      <td>4</td>\n",
       "      <td>97.0</td>\n",
       "      <td>88</td>\n",
       "      <td>2130</td>\n",
       "      <td>14.5</td>\n",
       "      <td>70</td>\n",
       "      <td>3</td>\n",
       "      <td>datsun pl510</td>\n",
       "    </tr>\n",
       "    <tr>\n",
       "      <th>19</th>\n",
       "      <td>26.0</td>\n",
       "      <td>4</td>\n",
       "      <td>97.0</td>\n",
       "      <td>46</td>\n",
       "      <td>1835</td>\n",
       "      <td>20.5</td>\n",
       "      <td>70</td>\n",
       "      <td>2</td>\n",
       "      <td>volkswagen 1131 deluxe sedan</td>\n",
       "    </tr>\n",
       "    <tr>\n",
       "      <th>23</th>\n",
       "      <td>26.0</td>\n",
       "      <td>4</td>\n",
       "      <td>121.0</td>\n",
       "      <td>113</td>\n",
       "      <td>2234</td>\n",
       "      <td>12.5</td>\n",
       "      <td>70</td>\n",
       "      <td>2</td>\n",
       "      <td>bmw 2002</td>\n",
       "    </tr>\n",
       "    <tr>\n",
       "      <th>29</th>\n",
       "      <td>27.0</td>\n",
       "      <td>4</td>\n",
       "      <td>97.0</td>\n",
       "      <td>88</td>\n",
       "      <td>2130</td>\n",
       "      <td>14.5</td>\n",
       "      <td>71</td>\n",
       "      <td>3</td>\n",
       "      <td>datsun pl510</td>\n",
       "    </tr>\n",
       "    <tr>\n",
       "      <th>30</th>\n",
       "      <td>28.0</td>\n",
       "      <td>4</td>\n",
       "      <td>140.0</td>\n",
       "      <td>90</td>\n",
       "      <td>2264</td>\n",
       "      <td>15.5</td>\n",
       "      <td>71</td>\n",
       "      <td>1</td>\n",
       "      <td>chevrolet vega 2300</td>\n",
       "    </tr>\n",
       "    <tr>\n",
       "      <th>...</th>\n",
       "      <td>...</td>\n",
       "      <td>...</td>\n",
       "      <td>...</td>\n",
       "      <td>...</td>\n",
       "      <td>...</td>\n",
       "      <td>...</td>\n",
       "      <td>...</td>\n",
       "      <td>...</td>\n",
       "      <td>...</td>\n",
       "    </tr>\n",
       "    <tr>\n",
       "      <th>393</th>\n",
       "      <td>27.0</td>\n",
       "      <td>4</td>\n",
       "      <td>140.0</td>\n",
       "      <td>86</td>\n",
       "      <td>2790</td>\n",
       "      <td>15.6</td>\n",
       "      <td>82</td>\n",
       "      <td>1</td>\n",
       "      <td>ford mustang gl</td>\n",
       "    </tr>\n",
       "    <tr>\n",
       "      <th>394</th>\n",
       "      <td>44.0</td>\n",
       "      <td>4</td>\n",
       "      <td>97.0</td>\n",
       "      <td>52</td>\n",
       "      <td>2130</td>\n",
       "      <td>24.6</td>\n",
       "      <td>82</td>\n",
       "      <td>2</td>\n",
       "      <td>vw pickup</td>\n",
       "    </tr>\n",
       "    <tr>\n",
       "      <th>395</th>\n",
       "      <td>32.0</td>\n",
       "      <td>4</td>\n",
       "      <td>135.0</td>\n",
       "      <td>84</td>\n",
       "      <td>2295</td>\n",
       "      <td>11.6</td>\n",
       "      <td>82</td>\n",
       "      <td>1</td>\n",
       "      <td>dodge rampage</td>\n",
       "    </tr>\n",
       "    <tr>\n",
       "      <th>396</th>\n",
       "      <td>28.0</td>\n",
       "      <td>4</td>\n",
       "      <td>120.0</td>\n",
       "      <td>79</td>\n",
       "      <td>2625</td>\n",
       "      <td>18.6</td>\n",
       "      <td>82</td>\n",
       "      <td>1</td>\n",
       "      <td>ford ranger</td>\n",
       "    </tr>\n",
       "    <tr>\n",
       "      <th>397</th>\n",
       "      <td>31.0</td>\n",
       "      <td>4</td>\n",
       "      <td>119.0</td>\n",
       "      <td>82</td>\n",
       "      <td>2720</td>\n",
       "      <td>19.4</td>\n",
       "      <td>82</td>\n",
       "      <td>1</td>\n",
       "      <td>chevy s-10</td>\n",
       "    </tr>\n",
       "  </tbody>\n",
       "</table>\n",
       "<p>158 rows × 9 columns</p>\n",
       "</div>"
      ],
      "text/plain": [
       "      mpg  cylinders  displacement horsepower  weight  acceleration  \\\n",
       "18   27.0          4          97.0         88    2130          14.5   \n",
       "19   26.0          4          97.0         46    1835          20.5   \n",
       "23   26.0          4         121.0        113    2234          12.5   \n",
       "29   27.0          4          97.0         88    2130          14.5   \n",
       "30   28.0          4         140.0         90    2264          15.5   \n",
       "..    ...        ...           ...        ...     ...           ...   \n",
       "393  27.0          4         140.0         86    2790          15.6   \n",
       "394  44.0          4          97.0         52    2130          24.6   \n",
       "395  32.0          4         135.0         84    2295          11.6   \n",
       "396  28.0          4         120.0         79    2625          18.6   \n",
       "397  31.0          4         119.0         82    2720          19.4   \n",
       "\n",
       "     model year  origin                      car name  \n",
       "18           70       3                  datsun pl510  \n",
       "19           70       2  volkswagen 1131 deluxe sedan  \n",
       "23           70       2                      bmw 2002  \n",
       "29           71       3                  datsun pl510  \n",
       "30           71       1           chevrolet vega 2300  \n",
       "..          ...     ...                           ...  \n",
       "393          82       1               ford mustang gl  \n",
       "394          82       2                     vw pickup  \n",
       "395          82       1                 dodge rampage  \n",
       "396          82       1                   ford ranger  \n",
       "397          82       1                    chevy s-10  \n",
       "\n",
       "[158 rows x 9 columns]"
      ]
     },
     "execution_count": 11,
     "metadata": {},
     "output_type": "execute_result"
    }
   ],
   "source": [
    "data1"
   ]
  },
  {
   "cell_type": "code",
   "execution_count": 12,
   "id": "11bc4e21-4e22-400c-842a-ae38c10e094e",
   "metadata": {},
   "outputs": [
    {
     "data": {
      "text/html": [
       "<div>\n",
       "<style scoped>\n",
       "    .dataframe tbody tr th:only-of-type {\n",
       "        vertical-align: middle;\n",
       "    }\n",
       "\n",
       "    .dataframe tbody tr th {\n",
       "        vertical-align: top;\n",
       "    }\n",
       "\n",
       "    .dataframe thead th {\n",
       "        text-align: right;\n",
       "    }\n",
       "</style>\n",
       "<table border=\"1\" class=\"dataframe\">\n",
       "  <thead>\n",
       "    <tr style=\"text-align: right;\">\n",
       "      <th></th>\n",
       "      <th>mpg</th>\n",
       "      <th>car name</th>\n",
       "    </tr>\n",
       "  </thead>\n",
       "  <tbody>\n",
       "    <tr>\n",
       "      <th>18</th>\n",
       "      <td>27.0</td>\n",
       "      <td>datsun pl510</td>\n",
       "    </tr>\n",
       "    <tr>\n",
       "      <th>19</th>\n",
       "      <td>26.0</td>\n",
       "      <td>volkswagen 1131 deluxe sedan</td>\n",
       "    </tr>\n",
       "    <tr>\n",
       "      <th>23</th>\n",
       "      <td>26.0</td>\n",
       "      <td>bmw 2002</td>\n",
       "    </tr>\n",
       "    <tr>\n",
       "      <th>29</th>\n",
       "      <td>27.0</td>\n",
       "      <td>datsun pl510</td>\n",
       "    </tr>\n",
       "    <tr>\n",
       "      <th>30</th>\n",
       "      <td>28.0</td>\n",
       "      <td>chevrolet vega 2300</td>\n",
       "    </tr>\n",
       "    <tr>\n",
       "      <th>...</th>\n",
       "      <td>...</td>\n",
       "      <td>...</td>\n",
       "    </tr>\n",
       "    <tr>\n",
       "      <th>393</th>\n",
       "      <td>27.0</td>\n",
       "      <td>ford mustang gl</td>\n",
       "    </tr>\n",
       "    <tr>\n",
       "      <th>394</th>\n",
       "      <td>44.0</td>\n",
       "      <td>vw pickup</td>\n",
       "    </tr>\n",
       "    <tr>\n",
       "      <th>395</th>\n",
       "      <td>32.0</td>\n",
       "      <td>dodge rampage</td>\n",
       "    </tr>\n",
       "    <tr>\n",
       "      <th>396</th>\n",
       "      <td>28.0</td>\n",
       "      <td>ford ranger</td>\n",
       "    </tr>\n",
       "    <tr>\n",
       "      <th>397</th>\n",
       "      <td>31.0</td>\n",
       "      <td>chevy s-10</td>\n",
       "    </tr>\n",
       "  </tbody>\n",
       "</table>\n",
       "<p>158 rows × 2 columns</p>\n",
       "</div>"
      ],
      "text/plain": [
       "      mpg                      car name\n",
       "18   27.0                  datsun pl510\n",
       "19   26.0  volkswagen 1131 deluxe sedan\n",
       "23   26.0                      bmw 2002\n",
       "29   27.0                  datsun pl510\n",
       "30   28.0           chevrolet vega 2300\n",
       "..    ...                           ...\n",
       "393  27.0               ford mustang gl\n",
       "394  44.0                     vw pickup\n",
       "395  32.0                 dodge rampage\n",
       "396  28.0                   ford ranger\n",
       "397  31.0                    chevy s-10\n",
       "\n",
       "[158 rows x 2 columns]"
      ]
     },
     "execution_count": 12,
     "metadata": {},
     "output_type": "execute_result"
    }
   ],
   "source": [
    "data1[['mpg', 'car name']]"
   ]
  },
  {
   "cell_type": "markdown",
   "id": "c22ae3ef-027f-4fdd-b1fc-90ce8e3c34d7",
   "metadata": {},
   "source": [
    "2. Filtering\n",
    "Using NumPy, filter all cars with more than 6 cylinders.\n",
    "Return the corresponding car_name as a list.\n"
   ]
  },
  {
   "cell_type": "code",
   "execution_count": 13,
   "id": "faef429e-30c9-467c-bc57-ddf4a24ab1d0",
   "metadata": {},
   "outputs": [],
   "source": [
    "data2 = data[data['cylinders']>6]\n"
   ]
  },
  {
   "cell_type": "code",
   "execution_count": 14,
   "id": "f57e66cb-7add-436f-bcea-b2e84520e835",
   "metadata": {},
   "outputs": [],
   "source": [
    "car_name = data2['car name'].tolist()"
   ]
  },
  {
   "cell_type": "code",
   "execution_count": 15,
   "id": "872e1b6b-1746-4280-8db9-bebc93dd9ead",
   "metadata": {},
   "outputs": [
    {
     "data": {
      "text/plain": [
       "['chevrolet chevelle malibu',\n",
       " 'buick skylark 320',\n",
       " 'plymouth satellite',\n",
       " 'amc rebel sst',\n",
       " 'ford torino',\n",
       " 'ford galaxie 500',\n",
       " 'chevrolet impala',\n",
       " 'plymouth fury iii',\n",
       " 'pontiac catalina',\n",
       " 'amc ambassador dpl',\n",
       " 'dodge challenger se',\n",
       " \"plymouth 'cuda 340\",\n",
       " 'chevrolet monte carlo',\n",
       " 'buick estate wagon (sw)',\n",
       " 'ford f250',\n",
       " 'chevy c20',\n",
       " 'dodge d200',\n",
       " 'hi 1200d',\n",
       " 'chevrolet impala',\n",
       " 'pontiac catalina brougham',\n",
       " 'ford galaxie 500',\n",
       " 'plymouth fury iii',\n",
       " 'dodge monaco (sw)',\n",
       " 'ford country squire (sw)',\n",
       " 'pontiac safari (sw)',\n",
       " 'chevrolet impala',\n",
       " 'pontiac catalina',\n",
       " 'plymouth fury iii',\n",
       " 'ford galaxie 500',\n",
       " 'amc ambassador sst',\n",
       " 'mercury marquis',\n",
       " 'buick lesabre custom',\n",
       " 'oldsmobile delta 88 royale',\n",
       " 'chrysler newport royal',\n",
       " 'amc matador (sw)',\n",
       " 'chevrolet chevelle concours (sw)',\n",
       " 'ford gran torino (sw)',\n",
       " 'plymouth satellite custom (sw)',\n",
       " 'buick century 350',\n",
       " 'amc matador',\n",
       " 'chevrolet malibu',\n",
       " 'ford gran torino',\n",
       " 'dodge coronet custom',\n",
       " 'mercury marquis brougham',\n",
       " 'chevrolet caprice classic',\n",
       " 'ford ltd',\n",
       " 'plymouth fury gran sedan',\n",
       " 'chrysler new yorker brougham',\n",
       " 'buick electra 225 custom',\n",
       " 'amc ambassador brougham',\n",
       " 'chevrolet impala',\n",
       " 'ford country',\n",
       " 'plymouth custom suburb',\n",
       " 'oldsmobile vista cruiser',\n",
       " 'chevrolet monte carlo s',\n",
       " 'pontiac grand prix',\n",
       " 'dodge dart custom',\n",
       " 'oldsmobile omega',\n",
       " 'ford gran torino',\n",
       " 'buick century luxus (sw)',\n",
       " 'dodge coronet custom (sw)',\n",
       " 'ford gran torino (sw)',\n",
       " 'amc matador (sw)',\n",
       " 'pontiac catalina',\n",
       " 'chevrolet bel air',\n",
       " 'plymouth grand fury',\n",
       " 'ford ltd',\n",
       " 'chevrolet monza 2+2',\n",
       " 'ford mustang ii',\n",
       " 'chevrolet chevelle malibu classic',\n",
       " 'dodge coronet brougham',\n",
       " 'amc matador',\n",
       " 'ford gran torino',\n",
       " 'plymouth volare premier v8',\n",
       " 'cadillac seville',\n",
       " 'chevy c10',\n",
       " 'ford f108',\n",
       " 'dodge d100',\n",
       " 'chevrolet caprice classic',\n",
       " 'oldsmobile cutlass supreme',\n",
       " 'dodge monaco brougham',\n",
       " 'mercury cougar brougham',\n",
       " 'pontiac grand prix lj',\n",
       " 'chevrolet monte carlo landau',\n",
       " 'chrysler cordoba',\n",
       " 'ford thunderbird',\n",
       " 'oldsmobile cutlass salon brougham',\n",
       " 'dodge diplomat',\n",
       " 'mercury monarch ghia',\n",
       " 'chevrolet monte carlo landau',\n",
       " 'ford futura',\n",
       " 'dodge magnum xe',\n",
       " 'chevrolet caprice classic',\n",
       " 'ford ltd landau',\n",
       " 'mercury grand marquis',\n",
       " 'dodge st. regis',\n",
       " 'buick estate wagon (sw)',\n",
       " 'ford country squire (sw)',\n",
       " 'chevrolet malibu classic (sw)',\n",
       " 'chrysler lebaron town @ country (sw)',\n",
       " 'cadillac eldorado',\n",
       " 'oldsmobile cutlass salon brougham',\n",
       " 'oldsmobile cutlass ls']"
      ]
     },
     "execution_count": 15,
     "metadata": {},
     "output_type": "execute_result"
    }
   ],
   "source": [
    "car_name"
   ]
  },
  {
   "cell_type": "markdown",
   "id": "04b7eab7-483e-4260-bf00-f1e9b46e80b0",
   "metadata": {},
   "source": [
    "3. Statistical Analysis\n",
    "Compute the 25th, 50th, and 75th percentiles of the weight column using NumPy."
   ]
  },
  {
   "cell_type": "code",
   "execution_count": 16,
   "id": "7f10a9a8-9874-4440-834f-460081577120",
   "metadata": {},
   "outputs": [],
   "source": [
    "weight_array = np.array(data['weight'])"
   ]
  },
  {
   "cell_type": "code",
   "execution_count": 17,
   "id": "b1ce18fc-e489-44ee-bd71-ebb8e55f60b5",
   "metadata": {},
   "outputs": [],
   "source": [
    "per_25 = np.percentile(weight_array, 25)"
   ]
  },
  {
   "cell_type": "code",
   "execution_count": 18,
   "id": "4e0db98f-d466-4218-a897-3162dba56734",
   "metadata": {},
   "outputs": [],
   "source": [
    "per_50 = np.percentile(weight_array, 50)"
   ]
  },
  {
   "cell_type": "code",
   "execution_count": 19,
   "id": "07b2913d-b350-4266-8cf4-90743191849c",
   "metadata": {},
   "outputs": [],
   "source": [
    "per_75 = np.percentile(weight_array, 75)"
   ]
  },
  {
   "cell_type": "code",
   "execution_count": 20,
   "id": "8352b38f-658f-4cd1-80c1-86c777191467",
   "metadata": {},
   "outputs": [
    {
     "data": {
      "text/plain": [
       "2223.75"
      ]
     },
     "execution_count": 20,
     "metadata": {},
     "output_type": "execute_result"
    }
   ],
   "source": [
    "per_25"
   ]
  },
  {
   "cell_type": "code",
   "execution_count": 21,
   "id": "68a2949c-b4e1-441e-9152-3384c3ed520d",
   "metadata": {},
   "outputs": [
    {
     "data": {
      "text/plain": [
       "2803.5"
      ]
     },
     "execution_count": 21,
     "metadata": {},
     "output_type": "execute_result"
    }
   ],
   "source": [
    "per_50"
   ]
  },
  {
   "cell_type": "code",
   "execution_count": 22,
   "id": "753ace2b-bdf9-4a69-b7d6-0f812de9732c",
   "metadata": {},
   "outputs": [
    {
     "data": {
      "text/plain": [
       "3608.0"
      ]
     },
     "execution_count": 22,
     "metadata": {},
     "output_type": "execute_result"
    }
   ],
   "source": [
    "per_75"
   ]
  },
  {
   "cell_type": "markdown",
   "id": "c28af069-05ba-4818-98f2-5ac0cea44ffa",
   "metadata": {},
   "source": [
    "4. Array Manipulation\n",
    "Convert the acceleration column into a NumPy array and normalize its values\n",
    "(scale between 0 and 1)."
   ]
  },
  {
   "cell_type": "code",
   "execution_count": 23,
   "id": "ee488f8b-0e38-4bda-a57c-bc1d59084d41",
   "metadata": {},
   "outputs": [],
   "source": [
    "accl_array = np.array(data['acceleration'])"
   ]
  },
  {
   "cell_type": "code",
   "execution_count": 24,
   "id": "c8854fbc-3b96-49a7-aabc-6936df9a91a4",
   "metadata": {},
   "outputs": [],
   "source": [
    "min1 = np.min(accl_array)"
   ]
  },
  {
   "cell_type": "code",
   "execution_count": 25,
   "id": "d9d38740-17bc-49a7-b125-fc455229dbb5",
   "metadata": {},
   "outputs": [],
   "source": [
    "max1 = np.max(accl_array)"
   ]
  },
  {
   "cell_type": "code",
   "execution_count": 26,
   "id": "a1be0144-7520-4db4-9041-39cfc5efa3a3",
   "metadata": {},
   "outputs": [],
   "source": [
    "normalized_accl_values = (accl_array - min1) / (max1-min1)\n"
   ]
  },
  {
   "cell_type": "code",
   "execution_count": 27,
   "id": "0b6cdff0-ebdc-4521-aa2a-1fbc1f132817",
   "metadata": {},
   "outputs": [
    {
     "name": "stdout",
     "output_type": "stream",
     "text": [
      "Normalised accelaration values: [0.23809524 0.20833333 0.17857143 0.23809524 0.14880952 0.11904762\n",
      " 0.05952381 0.0297619  0.11904762 0.0297619  0.11904762 0.\n",
      " 0.08928571 0.11904762 0.41666667 0.44642857 0.44642857 0.47619048\n",
      " 0.38690476 0.74404762 0.56547619 0.38690476 0.56547619 0.26785714\n",
      " 0.41666667 0.35714286 0.41666667 0.32738095 0.625      0.38690476\n",
      " 0.44642857 0.35714286 0.6547619  0.29761905 0.44642857 0.44642857\n",
      " 0.44642857 0.44642857 0.23809524 0.20833333 0.32738095 0.29761905\n",
      " 0.20833333 0.23809524 0.23809524 0.32738095 0.6547619  0.41666667\n",
      " 0.38690476 0.35714286 0.35714286 0.68452381 0.38690476 0.6547619\n",
      " 0.5952381  0.6547619  0.74404762 0.44642857 0.53571429 0.92261905\n",
      " 0.68452381 0.50595238 0.23809524 0.23809524 0.32738095 0.29761905\n",
      " 0.20833333 0.17857143 0.32738095 0.32738095 0.26785714 0.32738095\n",
      " 0.26785714 0.35714286 0.47619048 0.35714286 0.38690476 0.5952381\n",
      " 0.68452381 0.5952381  0.47619048 0.53571429 0.38690476 0.41666667\n",
      " 0.50595238 0.29761905 0.20833333 0.29761905 0.38690476 0.26785714\n",
      " 0.20833333 0.23809524 0.29761905 0.38690476 0.17857143 0.17857143\n",
      " 0.17857143 0.50595238 0.5952381  0.47619048 0.50595238 0.47619048\n",
      " 0.77380952 0.35714286 0.26785714 0.29761905 0.26785714 0.41666667\n",
      " 0.6547619  0.68452381 0.50595238 0.32738095 0.625      0.35714286\n",
      " 0.44642857 0.29761905 0.08928571 0.68452381 0.44642857 0.35714286\n",
      " 0.44642857 0.17857143 0.35714286 0.32738095 0.17857143 0.50595238\n",
      " 0.53571429 0.47619048 0.53571429 0.6547619  0.50595238 0.77380952\n",
      " 0.53571429 0.53571429 0.5952381  0.50595238 0.35714286 0.38690476\n",
      " 0.32738095 0.47619048 0.44642857 0.50595238 0.44642857 0.38690476\n",
      " 0.50595238 0.6547619  0.38690476 0.44642857 0.35714286 0.41666667\n",
      " 0.44642857 0.47619048 0.47619048 0.47619048 0.77380952 0.68452381\n",
      " 0.20833333 0.35714286 0.38690476 0.32738095 0.77380952 0.625\n",
      " 0.6547619  0.6547619  0.41666667 0.32738095 0.23809524 0.47619048\n",
      " 0.53571429 0.47619048 0.625      0.32738095 0.50595238 0.53571429\n",
      " 0.38690476 0.35714286 0.53571429 0.41666667 0.53571429 0.38690476\n",
      " 0.32738095 0.56547619 0.44642857 0.5297619  0.41071429 0.57738095\n",
      " 0.43452381 0.29761905 0.29761905 0.35119048 0.28571429 0.44047619\n",
      " 0.38690476 0.57142857 0.57142857 0.8452381  0.83928571 0.36904762\n",
      " 0.55952381 0.57738095 0.77380952 0.48809524 0.58333333 0.25\n",
      " 0.53571429 0.5        0.33333333 0.45833333 0.30952381 0.82738095\n",
      " 0.44642857 0.51785714 0.24404762 0.23809524 0.41666667 0.35714286\n",
      " 0.625      0.4047619  0.63095238 0.44642857 0.52380952 0.26785714\n",
      " 0.6547619  0.33928571 0.41071429 0.5        0.5297619  0.57738095\n",
      " 0.6547619  0.18452381 0.20238095 0.25       0.38690476 0.38690476\n",
      " 0.47619048 0.60714286 0.46428571 0.53571429 0.4702381  0.5\n",
      " 0.36309524 0.38690476 0.28571429 0.32738095 0.80357143 0.38095238\n",
      " 0.67857143 0.63095238 0.5        0.44642857 0.30952381 0.28571429\n",
      " 0.66666667 0.60714286 0.46428571 0.44047619 0.54761905 0.54761905\n",
      " 0.46428571 0.51785714 0.63690476 0.42261905 0.30952381 0.32142857\n",
      " 0.19047619 0.33928571 0.50595238 0.36904762 0.39880952 0.38690476\n",
      " 0.4047619  0.51785714 0.57142857 0.41071429 0.4702381  0.33333333\n",
      " 0.45833333 0.46428571 0.41071429 0.51190476 0.44047619 0.60714286\n",
      " 0.55357143 0.60714286 0.51190476 0.44047619 0.32142857 0.30952381\n",
      " 0.42857143 0.41071429 0.375      0.41666667 0.29761905 0.35714286\n",
      " 0.42857143 0.38095238 0.41666667 0.7202381  0.55952381 1.\n",
      " 0.8452381  0.30952381 0.41071429 0.66666667 0.39880952 0.47619048\n",
      " 0.19642857 0.29166667 0.30952381 0.39880952 0.64285714 0.44642857\n",
      " 0.5        0.50595238 0.60119048 0.7202381  0.63690476 0.46428571\n",
      " 0.44642857 0.56547619 0.41666667 0.42857143 0.58928571 0.38095238\n",
      " 0.66666667 0.81547619 0.93452381 0.70833333 0.82142857 0.3452381\n",
      " 0.55357143 0.5952381  0.43452381 0.20238095 0.26785714 0.42261905\n",
      " 0.375      0.53571429 0.45833333 0.5        0.38095238 0.27380952\n",
      " 0.29166667 0.5297619  0.5        0.48214286 0.58333333 0.67857143\n",
      " 0.55357143 0.47619048 0.41071429 0.48809524 0.75595238 0.36904762\n",
      " 0.46428571 0.38095238 0.52380952 0.4047619  0.61309524 0.73809524\n",
      " 0.69047619 0.27380952 0.3452381  0.46428571 0.6547619  0.54166667\n",
      " 0.51190476 0.69047619 0.63095238 0.5952381  0.48809524 0.47619048\n",
      " 0.5952381  0.5        0.74404762 0.43452381 0.60714286 0.57142857\n",
      " 0.39880952 0.55357143 0.38690476 0.38690476 0.5297619  0.41666667\n",
      " 0.45833333 0.48809524 0.5        0.53571429 0.38690476 0.39880952\n",
      " 0.35119048 0.29761905 0.55357143 0.45238095 0.98809524 0.21428571\n",
      " 0.63095238 0.67857143]\n"
     ]
    }
   ],
   "source": [
    "print(\"Normalised accelaration values:\", normalized_accl_values)"
   ]
  },
  {
   "cell_type": "markdown",
   "id": "f1314f5b-da78-4452-9691-433060c63ba9",
   "metadata": {},
   "source": [
    "5. Broadcasting\n",
    "Increase all horsepower values by 10% and store the updated values in a new\n",
    "NumPy array. Handle missing data (if any) by replacing it with the mean of the\n",
    "column before applying the increase."
   ]
  },
  {
   "cell_type": "code",
   "execution_count": 28,
   "id": "0393ddb5-74ba-41b4-b1ce-cce8d966dbc4",
   "metadata": {},
   "outputs": [],
   "source": [
    "horse_array = np.array(data['horsepower'])"
   ]
  },
  {
   "cell_type": "code",
   "execution_count": 29,
   "id": "e34b85a2-63d6-4161-8619-5ab993d79052",
   "metadata": {},
   "outputs": [
    {
     "data": {
      "text/plain": [
       "mpg             0\n",
       "cylinders       0\n",
       "displacement    0\n",
       "horsepower      0\n",
       "weight          0\n",
       "acceleration    0\n",
       "model year      0\n",
       "origin          0\n",
       "car name        0\n",
       "dtype: int64"
      ]
     },
     "execution_count": 29,
     "metadata": {},
     "output_type": "execute_result"
    }
   ],
   "source": [
    "data.isna().sum()"
   ]
  },
  {
   "cell_type": "code",
   "execution_count": 30,
   "id": "1b6becc2-8615-46ff-bcb1-57e947d4d37b",
   "metadata": {},
   "outputs": [],
   "source": [
    "data['horsepower'] = pd.to_numeric(data['horsepower'], errors='coerce')"
   ]
  },
  {
   "cell_type": "code",
   "execution_count": 31,
   "id": "0ba3625c-d377-47f4-a75f-b5519b84b919",
   "metadata": {},
   "outputs": [],
   "source": [
    "mean_horsepower = data['horsepower'].mean()"
   ]
  },
  {
   "cell_type": "code",
   "execution_count": 32,
   "id": "3cc14fae-d9e5-4878-8f35-db1170f6782e",
   "metadata": {},
   "outputs": [],
   "source": [
    "data['horsepower'] = data['horsepower'].fillna(mean_horsepower)"
   ]
  },
  {
   "cell_type": "code",
   "execution_count": 33,
   "id": "a97d4af4-0bbf-4edf-a918-4fe0f518334b",
   "metadata": {},
   "outputs": [],
   "source": [
    "updated_horsepower_array = np.array(data['horsepower'] * 1.10)"
   ]
  },
  {
   "cell_type": "code",
   "execution_count": 34,
   "id": "b30d4881-33fb-4097-aabc-c76371d22a3c",
   "metadata": {},
   "outputs": [
    {
     "name": "stdout",
     "output_type": "stream",
     "text": [
      "Updated Horsepower Array: [143.         181.5        165.         165.         154.\n",
      " 217.8        242.         236.5        247.5        209.\n",
      " 187.         176.         165.         247.5        104.5\n",
      " 104.5        106.7         93.5         96.8         50.6\n",
      "  95.7         99.         104.5        124.3         99.\n",
      " 236.5        220.         231.         212.3         96.8\n",
      "  99.         104.5        114.91632653 110.         115.5\n",
      " 110.          96.8        110.         181.5        192.5\n",
      " 168.3        165.         198.         187.         192.5\n",
      " 121.          79.2        110.          96.8         94.6\n",
      "  99.          77.          83.6         71.5         75.9\n",
      "  66.          77.         104.5         88.          59.4\n",
      "  99.          94.6        181.5        192.5        165.\n",
      " 168.3        165.         228.8        170.5        176.\n",
      " 209.         106.7        165.         143.         154.\n",
      " 165.         123.2         83.6         95.7         75.9\n",
      "  94.6        101.2        106.7         88.          96.8\n",
      " 192.5        165.         159.5        150.7        165.\n",
      " 217.8        165.         173.8        165.         236.5\n",
      " 247.5        192.5        115.5        110.         110.\n",
      "  96.8        104.5         50.6        165.         183.7\n",
      " 187.         198.         110.          96.8         79.2\n",
      " 103.4         99.          93.5        117.7         99.\n",
      " 159.5        253.          53.9         82.5        100.1\n",
      " 123.2        165.         121.         134.2        198.\n",
      " 104.5        114.91632653 110.         110.          73.7\n",
      "  88.          71.5         82.5        110.         121.\n",
      " 115.5        154.         165.         165.         154.\n",
      " 165.          91.3         73.7         85.8         57.2\n",
      "  67.1         82.5         82.5         82.5        106.7\n",
      " 102.3         73.7        104.5        115.5         79.2\n",
      "  79.2        187.         159.5        165.         162.8\n",
      " 121.         115.5        121.         104.5        121.\n",
      " 121.         141.9         82.5         91.3        110.\n",
      "  85.8        105.6         78.1        106.7        106.7\n",
      "  77.          99.         104.5         96.8        107.8\n",
      " 126.5         58.3         94.6         89.1        101.2\n",
      "  86.9         91.3        154.         165.         132.\n",
      " 167.2        110.         115.5         89.1         99.\n",
      "  57.2         66.          77.          58.3        110.\n",
      "  85.8        121.         104.5         78.1         77.\n",
      "  82.5         79.2        112.2        165.          96.8\n",
      " 118.8        132.         198.         159.5        143.\n",
      " 165.          74.8         88.          63.8        105.6\n",
      "  77.         159.5        121.         159.5        143.\n",
      " 121.         115.5        110.         107.8        198.\n",
      " 187.         209.         163.9         85.8         96.8\n",
      "  82.5         97.9         69.3         91.3         73.7\n",
      "  85.8        106.7        121.         121.          52.8\n",
      "  72.6         57.2         77.          66.         121.\n",
      " 154.         152.9        115.5        104.5         93.5\n",
      "  96.8        110.          99.         115.5         93.5\n",
      " 121.         132.         159.5        181.5        152.9\n",
      " 154.          74.8        104.5        106.7         82.5\n",
      " 104.5        115.5         93.5        106.7        113.3\n",
      " 137.5        126.5        146.3         78.1         74.8\n",
      " 126.5         93.5         96.8         99.         121.\n",
      " 143.         141.9        151.8        148.5        170.5\n",
      " 156.2        137.5        165.          78.1         71.5\n",
      "  88.          88.          84.7        137.5         78.1\n",
      "  99.          77.          77.          71.5         75.9\n",
      "  99.         126.5        126.5         99.          83.6\n",
      "  66.          77.          71.5         99.          96.8\n",
      "  99.          99.          85.8         99.          82.5\n",
      " 101.2         82.5         71.5        115.5         71.5\n",
      "  52.8         52.8         73.7         73.7         73.7\n",
      " 114.91632653  73.7         68.2        145.2        110.\n",
      "  96.8        114.91632653  79.2         92.4         92.4\n",
      " 101.2        121.          92.4         63.8         70.4\n",
      "  66.          73.7         71.5         68.2         74.8\n",
      "  69.3         71.5         71.5         81.4        114.91632653\n",
      "  82.5         82.5        110.          81.4         88.\n",
      "  83.6        127.6        132.         121.         115.5\n",
      "  96.8         93.5         96.8         96.8         96.8\n",
      "  93.5         92.4         99.         101.2        114.91632653\n",
      "  81.4         74.8         74.8         69.3         77.\n",
      "  96.8         82.5         77.          73.7         73.7\n",
      "  73.7        121.          93.5        101.2        123.2\n",
      " 105.6         92.4         99.          94.6         57.2\n",
      "  92.4         86.9         90.2       ]\n"
     ]
    }
   ],
   "source": [
    "print(\"Updated Horsepower Array:\", updated_horsepower_array)"
   ]
  },
  {
   "cell_type": "markdown",
   "id": "87d6926d-e431-4d58-9d42-681a53700404",
   "metadata": {},
   "source": [
    "6. Boolean Indexing\n",
    "Find the average displacement of cars with an origin of 2 (Europe) using NumPy\n",
    "indexing."
   ]
  },
  {
   "cell_type": "code",
   "execution_count": 35,
   "id": "5664b04d-bacc-4ea9-93fb-951eed8ffea6",
   "metadata": {},
   "outputs": [],
   "source": [
    "displacement_array = np.array(data['displacement'])"
   ]
  },
  {
   "cell_type": "code",
   "execution_count": 36,
   "id": "4a36a0fa-5c75-48a1-b272-bbfc521a422a",
   "metadata": {},
   "outputs": [],
   "source": [
    "origin_array = np.array(data['origin'])"
   ]
  },
  {
   "cell_type": "code",
   "execution_count": 37,
   "id": "11f67475-d9b4-4f81-ae2d-88f13fcc7cd6",
   "metadata": {},
   "outputs": [],
   "source": [
    "origin_array1 = origin_array==2"
   ]
  },
  {
   "cell_type": "code",
   "execution_count": 38,
   "id": "59e464cc-6109-45d0-906b-63471f095427",
   "metadata": {},
   "outputs": [],
   "source": [
    "displacement = displacement_array[origin_array1]"
   ]
  },
  {
   "cell_type": "code",
   "execution_count": 39,
   "id": "45b56be3-a3d3-4bf2-8e34-50613cad5d41",
   "metadata": {},
   "outputs": [
    {
     "data": {
      "text/plain": [
       "109.14285714285714"
      ]
     },
     "execution_count": 39,
     "metadata": {},
     "output_type": "execute_result"
    }
   ],
   "source": [
    "np.mean(displacement)"
   ]
  },
  {
   "cell_type": "markdown",
   "id": "9298815e-f206-4a3e-9e69-9a38ff5cdf4a",
   "metadata": {},
   "source": [
    "7. Matrix Operations\n",
    "Create a 2D NumPy array containing the columns mpg, horsepower, and weight.\n",
    "Compute the dot product of this matrix with a given vector [1, 0.5, -0.2]."
   ]
  },
  {
   "cell_type": "code",
   "execution_count": 40,
   "id": "06b40e8d-a506-4e94-81de-70af6251004b",
   "metadata": {},
   "outputs": [],
   "source": [
    "data3 = np.array(data[['mpg', 'horsepower', 'weight']])"
   ]
  },
  {
   "cell_type": "code",
   "execution_count": 41,
   "id": "cc39428d-026e-437c-89eb-d628a07d1c2e",
   "metadata": {},
   "outputs": [],
   "source": [
    "vector = np.array([1, 0.5, -0.2])"
   ]
  },
  {
   "cell_type": "code",
   "execution_count": 42,
   "id": "3b290db0-7dfe-4cb3-90a7-9360d78cc044",
   "metadata": {},
   "outputs": [],
   "source": [
    "dot_product = np.dot(data3, vector)"
   ]
  },
  {
   "cell_type": "code",
   "execution_count": 43,
   "id": "06e9d645-8282-450d-a83b-5da6de6bf5ab",
   "metadata": {},
   "outputs": [
    {
     "data": {
      "text/plain": [
       "array([-617.8       , -641.1       , -594.2       , -595.6       ,\n",
       "       -602.8       , -754.2       , -746.8       , -740.9       ,\n",
       "       -758.5       , -660.        , -612.6       , -627.8       ,\n",
       "       -662.2       , -490.7       , -402.9       , -497.1       ,\n",
       "       -488.3       , -453.9       , -355.        , -318.        ,\n",
       "       -465.9       , -417.        , -402.5       , -364.3       ,\n",
       "       -463.6       , -805.5       , -765.2       , -760.4       ,\n",
       "       -840.9       , -355.        , -379.8       , -373.1       ,\n",
       "       -331.96530612, -457.8       , -619.3       , -598.8       ,\n",
       "       -597.4       , -589.6       , -745.3       , -791.3       ,\n",
       "       -740.3       , -730.2       , -889.        , -851.2       ,\n",
       "       -927.5       , -519.4       , -423.6       , -587.4       ,\n",
       "       -565.8       , -378.        , -351.6       , -349.8       ,\n",
       "       -345.        , -291.1       , -253.1       , -309.8       ,\n",
       "       -330.        , -384.1       , -360.2       , -400.8       ,\n",
       "       -416.6       , -381.2       , -759.3       , -775.5       ,\n",
       "       -737.        , -735.3       , -642.4       , -811.6       ,\n",
       "       -809.9       , -799.2       , -776.4       , -398.5       ,\n",
       "       -688.4       , -741.6       , -775.8       , -726.4       ,\n",
       "       -512.6       , -442.2       , -531.3       , -377.3       ,\n",
       "       -414.        , -383.6       , -429.7       , -364.8       ,\n",
       "       -349.        , -719.5       , -645.4       , -712.1       ,\n",
       "       -725.9       , -665.4       , -879.4       , -804.8       ,\n",
       "       -780.6       , -758.4       , -826.5       , -865.7       ,\n",
       "       -663.7       , -553.7       , -589.6       , -521.        ,\n",
       "       -542.2       , -510.3       , -341.        , -913.4       ,\n",
       "       -885.7       , -832.8       , -797.8       , -489.8       ,\n",
       "       -391.8       , -423.2       , -406.8       , -361.8       ,\n",
       "       -400.5       , -419.9       , -382.        , -728.9       ,\n",
       "       -724.6       , -319.9       , -370.1       , -450.9       ,\n",
       "       -498.6       , -589.8       , -453.        , -480.4       ,\n",
       "       -631.8       , -552.9       , -501.76530612, -511.2       ,\n",
       "       -602.2       , -325.5       , -424.2       , -302.7       ,\n",
       "       -445.9       , -690.2       , -655.4       , -652.1       ,\n",
       "       -742.2       , -851.8       , -802.4       , -843.6       ,\n",
       "       -762.4       , -373.3       , -333.1       , -395.        ,\n",
       "       -272.8       , -338.1       , -359.5       , -360.1       ,\n",
       "       -385.7       , -425.3       , -405.7       , -335.5       ,\n",
       "       -586.3       , -621.3       , -635.4       , -580.6       ,\n",
       "       -832.6       , -800.5       , -808.6       , -843.4       ,\n",
       "       -709.4       , -710.9       , -676.        , -691.5       ,\n",
       "       -531.8       , -569.2       , -556.3       , -367.7       ,\n",
       "       -463.3       , -512.8       , -456.4       , -468.4       ,\n",
       "       -384.1       , -436.5       , -530.3       , -323.4       ,\n",
       "       -578.2       , -468.3       , -524.4       , -518.        ,\n",
       "       -451.7       , -299.5       , -421.8       , -378.5       ,\n",
       "       -443.4       , -385.5       , -371.9       , -755.5       ,\n",
       "       -747.        , -716.9       , -752.5       , -574.6       ,\n",
       "       -596.1       , -537.9       , -549.5       , -352.        ,\n",
       "       -378.3       , -323.4       , -299.5       , -660.2       ,\n",
       "       -657.8       , -655.5       , -573.6       , -300.        ,\n",
       "       -331.        , -365.5       , -450.5       , -559.        ,\n",
       "       -700.        , -591.        , -513.        , -687.5       ,\n",
       "       -769.5       , -725.5       , -696.        , -663.        ,\n",
       "       -343.5       , -361.        , -300.        , -386.5       ,\n",
       "       -320.5       , -686.        , -740.        , -740.        ,\n",
       "       -779.        , -631.5       , -612.        , -657.        ,\n",
       "       -637.5       , -738.        , -732.5       , -754.5       ,\n",
       "       -776.5       , -320.        , -479.5       , -389.5       ,\n",
       "       -481.        , -348.2       , -340.        , -333.5       ,\n",
       "       -368.5       , -492.5       , -443.5       , -467.5       ,\n",
       "       -329.9       , -290.9       , -338.2       , -339.6       ,\n",
       "       -293.9       , -598.1       , -657.6       , -624.3       ,\n",
       "       -635.3       , -563.        , -530.3       , -474.9       ,\n",
       "       -615.5       , -577.6       , -602.9       , -550.7       ,\n",
       "       -650.4       , -603.9       , -593.3       , -588.8       ,\n",
       "       -553.4       , -728.5       , -367.        , -437.        ,\n",
       "       -384.3       , -377.6       , -434.4       , -473.3       ,\n",
       "       -504.7       , -408.6       , -494.2       , -548.5       ,\n",
       "       -479.9       , -599.3       , -331.        , -363.5       ,\n",
       "       -570.        , -535.7       , -511.7       , -587.8       ,\n",
       "       -596.4       , -686.        , -662.9       , -705.5       ,\n",
       "       -680.3       , -777.6       , -724.3       , -639.3       ,\n",
       "       -694.5       , -317.6       , -328.4       , -307.3       ,\n",
       "       -466.6       , -642.1       , -694.5       , -575.3       ,\n",
       "       -615.1       , -370.8       , -360.5       , -339.7       ,\n",
       "       -354.2       , -460.6       , -432.7       , -455.7       ,\n",
       "       -432.7       , -349.3       , -325.5       , -356.9       ,\n",
       "       -334.1       , -462.6       , -503.6       , -531.3       ,\n",
       "       -612.1       , -364.3       , -467.4       , -439.6       ,\n",
       "       -403.8       , -383.3       , -342.9       , -479.6       ,\n",
       "       -348.7       , -348.7       , -399.6       , -520.1       ,\n",
       "       -586.5       , -291.9       , -273.86530612, -361.7       ,\n",
       "       -308.2       , -483.3       , -410.3       , -421.        ,\n",
       "       -505.16530612, -389.6       , -428.8       , -458.4       ,\n",
       "       -452.2       , -466.5       , -405.        , -282.9       ,\n",
       "       -304.        , -286.9       , -347.2       , -325.5       ,\n",
       "       -341.3       , -328.9       , -376.8       , -342.1       ,\n",
       "       -413.6       , -368.        , -377.26530612, -370.8       ,\n",
       "       -400.1       , -440.1       , -458.4       , -577.9       ,\n",
       "       -563.3       , -496.6       , -501.8       , -605.6       ,\n",
       "       -665.9       , -547.8       , -632.9       , -449.        ,\n",
       "       -457.        , -401.        , -441.5       , -434.        ,\n",
       "       -475.        , -503.        , -531.76530612, -323.        ,\n",
       "       -334.        , -329.        , -355.5       , -354.        ,\n",
       "       -352.        , -367.5       , -380.        , -321.5       ,\n",
       "       -327.5       , -327.5       , -509.        , -522.5       ,\n",
       "       -445.        , -489.        , -453.        , -396.        ,\n",
       "       -518.        , -488.        , -356.        , -385.        ,\n",
       "       -457.5       , -472.        ])"
      ]
     },
     "execution_count": 43,
     "metadata": {},
     "output_type": "execute_result"
    }
   ],
   "source": [
    "dot_product"
   ]
  },
  {
   "cell_type": "markdown",
   "id": "42511e3d-7a28-42bc-b728-4aaed9512ed0",
   "metadata": {},
   "source": [
    "8. Sorting\n",
    "Use NumPy to sort the cars by model_year in descending order and display the first\n",
    "five car names."
   ]
  },
  {
   "cell_type": "code",
   "execution_count": 44,
   "id": "19e7e284-5024-4de0-ace4-c39346960e1b",
   "metadata": {},
   "outputs": [],
   "source": [
    "data4 = data.sort_values(by=['model year'], ascending = False)"
   ]
  },
  {
   "cell_type": "code",
   "execution_count": 45,
   "id": "25100550-a1c0-495f-bf9c-815016b56197",
   "metadata": {},
   "outputs": [
    {
     "data": {
      "text/html": [
       "<div>\n",
       "<style scoped>\n",
       "    .dataframe tbody tr th:only-of-type {\n",
       "        vertical-align: middle;\n",
       "    }\n",
       "\n",
       "    .dataframe tbody tr th {\n",
       "        vertical-align: top;\n",
       "    }\n",
       "\n",
       "    .dataframe thead th {\n",
       "        text-align: right;\n",
       "    }\n",
       "</style>\n",
       "<table border=\"1\" class=\"dataframe\">\n",
       "  <thead>\n",
       "    <tr style=\"text-align: right;\">\n",
       "      <th></th>\n",
       "      <th>mpg</th>\n",
       "      <th>cylinders</th>\n",
       "      <th>displacement</th>\n",
       "      <th>horsepower</th>\n",
       "      <th>weight</th>\n",
       "      <th>acceleration</th>\n",
       "      <th>model year</th>\n",
       "      <th>origin</th>\n",
       "      <th>car name</th>\n",
       "    </tr>\n",
       "  </thead>\n",
       "  <tbody>\n",
       "    <tr>\n",
       "      <th>397</th>\n",
       "      <td>31.0</td>\n",
       "      <td>4</td>\n",
       "      <td>119.0</td>\n",
       "      <td>82.0</td>\n",
       "      <td>2720</td>\n",
       "      <td>19.4</td>\n",
       "      <td>82</td>\n",
       "      <td>1</td>\n",
       "      <td>chevy s-10</td>\n",
       "    </tr>\n",
       "    <tr>\n",
       "      <th>382</th>\n",
       "      <td>34.0</td>\n",
       "      <td>4</td>\n",
       "      <td>108.0</td>\n",
       "      <td>70.0</td>\n",
       "      <td>2245</td>\n",
       "      <td>16.9</td>\n",
       "      <td>82</td>\n",
       "      <td>3</td>\n",
       "      <td>toyota corolla</td>\n",
       "    </tr>\n",
       "    <tr>\n",
       "      <th>367</th>\n",
       "      <td>28.0</td>\n",
       "      <td>4</td>\n",
       "      <td>112.0</td>\n",
       "      <td>88.0</td>\n",
       "      <td>2605</td>\n",
       "      <td>19.6</td>\n",
       "      <td>82</td>\n",
       "      <td>1</td>\n",
       "      <td>chevrolet cavalier</td>\n",
       "    </tr>\n",
       "    <tr>\n",
       "      <th>368</th>\n",
       "      <td>27.0</td>\n",
       "      <td>4</td>\n",
       "      <td>112.0</td>\n",
       "      <td>88.0</td>\n",
       "      <td>2640</td>\n",
       "      <td>18.6</td>\n",
       "      <td>82</td>\n",
       "      <td>1</td>\n",
       "      <td>chevrolet cavalier wagon</td>\n",
       "    </tr>\n",
       "    <tr>\n",
       "      <th>369</th>\n",
       "      <td>34.0</td>\n",
       "      <td>4</td>\n",
       "      <td>112.0</td>\n",
       "      <td>88.0</td>\n",
       "      <td>2395</td>\n",
       "      <td>18.0</td>\n",
       "      <td>82</td>\n",
       "      <td>1</td>\n",
       "      <td>chevrolet cavalier 2-door</td>\n",
       "    </tr>\n",
       "    <tr>\n",
       "      <th>...</th>\n",
       "      <td>...</td>\n",
       "      <td>...</td>\n",
       "      <td>...</td>\n",
       "      <td>...</td>\n",
       "      <td>...</td>\n",
       "      <td>...</td>\n",
       "      <td>...</td>\n",
       "      <td>...</td>\n",
       "      <td>...</td>\n",
       "    </tr>\n",
       "    <tr>\n",
       "      <th>25</th>\n",
       "      <td>10.0</td>\n",
       "      <td>8</td>\n",
       "      <td>360.0</td>\n",
       "      <td>215.0</td>\n",
       "      <td>4615</td>\n",
       "      <td>14.0</td>\n",
       "      <td>70</td>\n",
       "      <td>1</td>\n",
       "      <td>ford f250</td>\n",
       "    </tr>\n",
       "    <tr>\n",
       "      <th>26</th>\n",
       "      <td>10.0</td>\n",
       "      <td>8</td>\n",
       "      <td>307.0</td>\n",
       "      <td>200.0</td>\n",
       "      <td>4376</td>\n",
       "      <td>15.0</td>\n",
       "      <td>70</td>\n",
       "      <td>1</td>\n",
       "      <td>chevy c20</td>\n",
       "    </tr>\n",
       "    <tr>\n",
       "      <th>27</th>\n",
       "      <td>11.0</td>\n",
       "      <td>8</td>\n",
       "      <td>318.0</td>\n",
       "      <td>210.0</td>\n",
       "      <td>4382</td>\n",
       "      <td>13.5</td>\n",
       "      <td>70</td>\n",
       "      <td>1</td>\n",
       "      <td>dodge d200</td>\n",
       "    </tr>\n",
       "    <tr>\n",
       "      <th>28</th>\n",
       "      <td>9.0</td>\n",
       "      <td>8</td>\n",
       "      <td>304.0</td>\n",
       "      <td>193.0</td>\n",
       "      <td>4732</td>\n",
       "      <td>18.5</td>\n",
       "      <td>70</td>\n",
       "      <td>1</td>\n",
       "      <td>hi 1200d</td>\n",
       "    </tr>\n",
       "    <tr>\n",
       "      <th>0</th>\n",
       "      <td>18.0</td>\n",
       "      <td>8</td>\n",
       "      <td>307.0</td>\n",
       "      <td>130.0</td>\n",
       "      <td>3504</td>\n",
       "      <td>12.0</td>\n",
       "      <td>70</td>\n",
       "      <td>1</td>\n",
       "      <td>chevrolet chevelle malibu</td>\n",
       "    </tr>\n",
       "  </tbody>\n",
       "</table>\n",
       "<p>398 rows × 9 columns</p>\n",
       "</div>"
      ],
      "text/plain": [
       "      mpg  cylinders  displacement  horsepower  weight  acceleration  \\\n",
       "397  31.0          4         119.0        82.0    2720          19.4   \n",
       "382  34.0          4         108.0        70.0    2245          16.9   \n",
       "367  28.0          4         112.0        88.0    2605          19.6   \n",
       "368  27.0          4         112.0        88.0    2640          18.6   \n",
       "369  34.0          4         112.0        88.0    2395          18.0   \n",
       "..    ...        ...           ...         ...     ...           ...   \n",
       "25   10.0          8         360.0       215.0    4615          14.0   \n",
       "26   10.0          8         307.0       200.0    4376          15.0   \n",
       "27   11.0          8         318.0       210.0    4382          13.5   \n",
       "28    9.0          8         304.0       193.0    4732          18.5   \n",
       "0    18.0          8         307.0       130.0    3504          12.0   \n",
       "\n",
       "     model year  origin                   car name  \n",
       "397          82       1                 chevy s-10  \n",
       "382          82       3             toyota corolla  \n",
       "367          82       1         chevrolet cavalier  \n",
       "368          82       1   chevrolet cavalier wagon  \n",
       "369          82       1  chevrolet cavalier 2-door  \n",
       "..          ...     ...                        ...  \n",
       "25           70       1                  ford f250  \n",
       "26           70       1                  chevy c20  \n",
       "27           70       1                 dodge d200  \n",
       "28           70       1                   hi 1200d  \n",
       "0            70       1  chevrolet chevelle malibu  \n",
       "\n",
       "[398 rows x 9 columns]"
      ]
     },
     "execution_count": 45,
     "metadata": {},
     "output_type": "execute_result"
    }
   ],
   "source": [
    "data4"
   ]
  },
  {
   "cell_type": "code",
   "execution_count": 46,
   "id": "6e0eb912-ca2b-40f5-bbf2-a5026d8b903d",
   "metadata": {},
   "outputs": [],
   "source": [
    "data5 = data4.head(5)"
   ]
  },
  {
   "cell_type": "code",
   "execution_count": 47,
   "id": "c99242f5-a209-42bf-8eda-7880594e8a58",
   "metadata": {},
   "outputs": [
    {
     "name": "stdout",
     "output_type": "stream",
     "text": [
      "First Five Cars:\n",
      "      mpg  cylinders  displacement  horsepower  weight  acceleration  \\\n",
      "397  31.0          4         119.0        82.0    2720          19.4   \n",
      "382  34.0          4         108.0        70.0    2245          16.9   \n",
      "367  28.0          4         112.0        88.0    2605          19.6   \n",
      "368  27.0          4         112.0        88.0    2640          18.6   \n",
      "369  34.0          4         112.0        88.0    2395          18.0   \n",
      "\n",
      "     model year  origin                   car name  \n",
      "397          82       1                 chevy s-10  \n",
      "382          82       3             toyota corolla  \n",
      "367          82       1         chevrolet cavalier  \n",
      "368          82       1   chevrolet cavalier wagon  \n",
      "369          82       1  chevrolet cavalier 2-door  \n"
     ]
    }
   ],
   "source": [
    "print(\"First Five Cars:\") \n",
    "print(data5)"
   ]
  },
  {
   "cell_type": "code",
   "execution_count": 48,
   "id": "7bb30669-c438-4b16-9a40-faf35b374171",
   "metadata": {},
   "outputs": [
    {
     "data": {
      "text/plain": [
       "397                   chevy s-10\n",
       "382               toyota corolla\n",
       "367           chevrolet cavalier\n",
       "368     chevrolet cavalier wagon\n",
       "369    chevrolet cavalier 2-door\n",
       "Name: car name, dtype: object"
      ]
     },
     "execution_count": 48,
     "metadata": {},
     "output_type": "execute_result"
    }
   ],
   "source": [
    "data5['car name'].head(5)"
   ]
  },
  {
   "cell_type": "markdown",
   "id": "7beb069b-0178-42b2-91c1-795fb5823a30",
   "metadata": {},
   "source": [
    "9. Correlation\n",
    "Compute the Pearson correlation coefficient between mpg and weight using\n",
    "NumPy."
   ]
  },
  {
   "cell_type": "code",
   "execution_count": 49,
   "id": "ce5e87aa-0e14-444c-a1b7-8affdf0a6e6c",
   "metadata": {},
   "outputs": [],
   "source": [
    "correlation = np.corrcoef(mpg_array, weight_array)[0,1]"
   ]
  },
  {
   "cell_type": "code",
   "execution_count": 50,
   "id": "490db5e6-7afe-4676-9c21-b45bcf49ce7e",
   "metadata": {},
   "outputs": [
    {
     "name": "stdout",
     "output_type": "stream",
     "text": [
      "Pearson Correlation Coefficient: -0.8317409332443351\n"
     ]
    }
   ],
   "source": [
    "print(\"Pearson Correlation Coefficient:\", correlation)"
   ]
  },
  {
   "cell_type": "markdown",
   "id": "c0dcbeb6-7309-4c30-9a3b-9fca5014832a",
   "metadata": {},
   "source": [
    "10.Conditional Aggregates\n",
    "Calculate the mean mpg for cars grouped by the number of cylinders using NumPy\n",
    "techniques.\n"
   ]
  },
  {
   "cell_type": "code",
   "execution_count": 51,
   "id": "4d299625-f0f0-47af-9bf1-c3a7ce26533c",
   "metadata": {},
   "outputs": [],
   "source": [
    "cylinders_array = np.array(data['cylinders'])"
   ]
  },
  {
   "cell_type": "code",
   "execution_count": 52,
   "id": "50fcb6cc-0a15-46b3-b718-091baed40ebc",
   "metadata": {},
   "outputs": [],
   "source": [
    "unique_cylinders = np.unique(cylinders_array)"
   ]
  },
  {
   "cell_type": "code",
   "execution_count": 53,
   "id": "d8af69aa-e7bb-47a6-8126-c8137ccaf3e4",
   "metadata": {},
   "outputs": [
    {
     "data": {
      "text/plain": [
       "array([3, 4, 5, 6, 8], dtype=int64)"
      ]
     },
     "execution_count": 53,
     "metadata": {},
     "output_type": "execute_result"
    }
   ],
   "source": [
    "unique_cylinders"
   ]
  },
  {
   "cell_type": "code",
   "execution_count": 54,
   "id": "e58c43b3-6738-4af1-978d-d6795a783805",
   "metadata": {},
   "outputs": [],
   "source": [
    "mean_mpg_per_cylinder = {mpg_array[cylinders_array == unique_cylinders].mean() for unique_cylinders in unique_cylinders}"
   ]
  },
  {
   "cell_type": "code",
   "execution_count": 55,
   "id": "f3dc2daa-28fd-4aa1-a36b-27a8424511cd",
   "metadata": {},
   "outputs": [
    {
     "name": "stdout",
     "output_type": "stream",
     "text": [
      "Mean MPG by Number of Cylinders:\n",
      "{14.963106796116506, 19.985714285714284, 20.55, 27.366666666666664, 29.28676470588235}\n"
     ]
    }
   ],
   "source": [
    "print(\"Mean MPG by Number of Cylinders:\")\n",
    "print(mean_mpg_per_cylinder)\n"
   ]
  },
  {
   "cell_type": "code",
   "execution_count": 56,
   "id": "ae6c1e36-5fc0-4dfc-9a57-355c0512919c",
   "metadata": {},
   "outputs": [],
   "source": [
    "mean_mpg_per_cylinder = data.groupby('cylinders')['mpg'].mean() # or way"
   ]
  },
  {
   "cell_type": "code",
   "execution_count": 57,
   "id": "38ab56ff-088a-4046-9a5a-79771c2b80c3",
   "metadata": {},
   "outputs": [
    {
     "data": {
      "text/plain": [
       "cylinders\n",
       "3    20.550000\n",
       "4    29.286765\n",
       "5    27.366667\n",
       "6    19.985714\n",
       "8    14.963107\n",
       "Name: mpg, dtype: float64"
      ]
     },
     "execution_count": 57,
     "metadata": {},
     "output_type": "execute_result"
    }
   ],
   "source": [
    "mean_mpg_per_cylinder"
   ]
  },
  {
   "cell_type": "code",
   "execution_count": null,
   "id": "4355c52c-076a-496f-9407-de422dbd5524",
   "metadata": {},
   "outputs": [],
   "source": []
  },
  {
   "cell_type": "code",
   "execution_count": 58,
   "id": "6cbbcc73-f09c-4ba6-80b2-09ab60f2b345",
   "metadata": {},
   "outputs": [],
   "source": [
    "file = pd.read_csv(r\"C:\\Users\\kevin\\OneDrive\\Documents\\anna class\\DATA SETS\\auto-mpg.csv\")"
   ]
  },
  {
   "cell_type": "markdown",
   "id": "d43b153d-8ea3-455e-98f2-fb1123d49817",
   "metadata": {},
   "source": [
    "1. Basic Exploration\n",
    "Load the dataset into a Pandas DataFrame. Display:\n",
    "○ The first 10 rows\n",
    "○ The total number of rows and columns\n",
    "○ Summary statistics for numerical columns"
   ]
  },
  {
   "cell_type": "code",
   "execution_count": 59,
   "id": "348ddb6e-18ed-43dd-b75b-24c6ee20d1ee",
   "metadata": {},
   "outputs": [
    {
     "data": {
      "text/html": [
       "<div>\n",
       "<style scoped>\n",
       "    .dataframe tbody tr th:only-of-type {\n",
       "        vertical-align: middle;\n",
       "    }\n",
       "\n",
       "    .dataframe tbody tr th {\n",
       "        vertical-align: top;\n",
       "    }\n",
       "\n",
       "    .dataframe thead th {\n",
       "        text-align: right;\n",
       "    }\n",
       "</style>\n",
       "<table border=\"1\" class=\"dataframe\">\n",
       "  <thead>\n",
       "    <tr style=\"text-align: right;\">\n",
       "      <th></th>\n",
       "      <th>mpg</th>\n",
       "      <th>cylinders</th>\n",
       "      <th>displacement</th>\n",
       "      <th>horsepower</th>\n",
       "      <th>weight</th>\n",
       "      <th>acceleration</th>\n",
       "      <th>model year</th>\n",
       "      <th>origin</th>\n",
       "      <th>car name</th>\n",
       "    </tr>\n",
       "  </thead>\n",
       "  <tbody>\n",
       "    <tr>\n",
       "      <th>0</th>\n",
       "      <td>18.0</td>\n",
       "      <td>8</td>\n",
       "      <td>307.0</td>\n",
       "      <td>130</td>\n",
       "      <td>3504</td>\n",
       "      <td>12.0</td>\n",
       "      <td>70</td>\n",
       "      <td>1</td>\n",
       "      <td>chevrolet chevelle malibu</td>\n",
       "    </tr>\n",
       "    <tr>\n",
       "      <th>1</th>\n",
       "      <td>15.0</td>\n",
       "      <td>8</td>\n",
       "      <td>350.0</td>\n",
       "      <td>165</td>\n",
       "      <td>3693</td>\n",
       "      <td>11.5</td>\n",
       "      <td>70</td>\n",
       "      <td>1</td>\n",
       "      <td>buick skylark 320</td>\n",
       "    </tr>\n",
       "    <tr>\n",
       "      <th>2</th>\n",
       "      <td>18.0</td>\n",
       "      <td>8</td>\n",
       "      <td>318.0</td>\n",
       "      <td>150</td>\n",
       "      <td>3436</td>\n",
       "      <td>11.0</td>\n",
       "      <td>70</td>\n",
       "      <td>1</td>\n",
       "      <td>plymouth satellite</td>\n",
       "    </tr>\n",
       "    <tr>\n",
       "      <th>3</th>\n",
       "      <td>16.0</td>\n",
       "      <td>8</td>\n",
       "      <td>304.0</td>\n",
       "      <td>150</td>\n",
       "      <td>3433</td>\n",
       "      <td>12.0</td>\n",
       "      <td>70</td>\n",
       "      <td>1</td>\n",
       "      <td>amc rebel sst</td>\n",
       "    </tr>\n",
       "    <tr>\n",
       "      <th>4</th>\n",
       "      <td>17.0</td>\n",
       "      <td>8</td>\n",
       "      <td>302.0</td>\n",
       "      <td>140</td>\n",
       "      <td>3449</td>\n",
       "      <td>10.5</td>\n",
       "      <td>70</td>\n",
       "      <td>1</td>\n",
       "      <td>ford torino</td>\n",
       "    </tr>\n",
       "    <tr>\n",
       "      <th>5</th>\n",
       "      <td>15.0</td>\n",
       "      <td>8</td>\n",
       "      <td>429.0</td>\n",
       "      <td>198</td>\n",
       "      <td>4341</td>\n",
       "      <td>10.0</td>\n",
       "      <td>70</td>\n",
       "      <td>1</td>\n",
       "      <td>ford galaxie 500</td>\n",
       "    </tr>\n",
       "    <tr>\n",
       "      <th>6</th>\n",
       "      <td>14.0</td>\n",
       "      <td>8</td>\n",
       "      <td>454.0</td>\n",
       "      <td>220</td>\n",
       "      <td>4354</td>\n",
       "      <td>9.0</td>\n",
       "      <td>70</td>\n",
       "      <td>1</td>\n",
       "      <td>chevrolet impala</td>\n",
       "    </tr>\n",
       "    <tr>\n",
       "      <th>7</th>\n",
       "      <td>14.0</td>\n",
       "      <td>8</td>\n",
       "      <td>440.0</td>\n",
       "      <td>215</td>\n",
       "      <td>4312</td>\n",
       "      <td>8.5</td>\n",
       "      <td>70</td>\n",
       "      <td>1</td>\n",
       "      <td>plymouth fury iii</td>\n",
       "    </tr>\n",
       "    <tr>\n",
       "      <th>8</th>\n",
       "      <td>14.0</td>\n",
       "      <td>8</td>\n",
       "      <td>455.0</td>\n",
       "      <td>225</td>\n",
       "      <td>4425</td>\n",
       "      <td>10.0</td>\n",
       "      <td>70</td>\n",
       "      <td>1</td>\n",
       "      <td>pontiac catalina</td>\n",
       "    </tr>\n",
       "    <tr>\n",
       "      <th>9</th>\n",
       "      <td>15.0</td>\n",
       "      <td>8</td>\n",
       "      <td>390.0</td>\n",
       "      <td>190</td>\n",
       "      <td>3850</td>\n",
       "      <td>8.5</td>\n",
       "      <td>70</td>\n",
       "      <td>1</td>\n",
       "      <td>amc ambassador dpl</td>\n",
       "    </tr>\n",
       "  </tbody>\n",
       "</table>\n",
       "</div>"
      ],
      "text/plain": [
       "    mpg  cylinders  displacement horsepower  weight  acceleration  model year  \\\n",
       "0  18.0          8         307.0        130    3504          12.0          70   \n",
       "1  15.0          8         350.0        165    3693          11.5          70   \n",
       "2  18.0          8         318.0        150    3436          11.0          70   \n",
       "3  16.0          8         304.0        150    3433          12.0          70   \n",
       "4  17.0          8         302.0        140    3449          10.5          70   \n",
       "5  15.0          8         429.0        198    4341          10.0          70   \n",
       "6  14.0          8         454.0        220    4354           9.0          70   \n",
       "7  14.0          8         440.0        215    4312           8.5          70   \n",
       "8  14.0          8         455.0        225    4425          10.0          70   \n",
       "9  15.0          8         390.0        190    3850           8.5          70   \n",
       "\n",
       "   origin                   car name  \n",
       "0       1  chevrolet chevelle malibu  \n",
       "1       1          buick skylark 320  \n",
       "2       1         plymouth satellite  \n",
       "3       1              amc rebel sst  \n",
       "4       1                ford torino  \n",
       "5       1           ford galaxie 500  \n",
       "6       1           chevrolet impala  \n",
       "7       1          plymouth fury iii  \n",
       "8       1           pontiac catalina  \n",
       "9       1         amc ambassador dpl  "
      ]
     },
     "execution_count": 59,
     "metadata": {},
     "output_type": "execute_result"
    }
   ],
   "source": [
    "file.head(10)"
   ]
  },
  {
   "cell_type": "code",
   "execution_count": 60,
   "id": "4b279e8e-70b2-4aff-8579-4f6ee5cf9377",
   "metadata": {},
   "outputs": [
    {
     "data": {
      "text/plain": [
       "(398, 9)"
      ]
     },
     "execution_count": 60,
     "metadata": {},
     "output_type": "execute_result"
    }
   ],
   "source": [
    "file.shape"
   ]
  },
  {
   "cell_type": "code",
   "execution_count": 61,
   "id": "71f613e0-7c9a-45e8-8f54-68b2bba8665b",
   "metadata": {},
   "outputs": [
    {
     "data": {
      "text/html": [
       "<div>\n",
       "<style scoped>\n",
       "    .dataframe tbody tr th:only-of-type {\n",
       "        vertical-align: middle;\n",
       "    }\n",
       "\n",
       "    .dataframe tbody tr th {\n",
       "        vertical-align: top;\n",
       "    }\n",
       "\n",
       "    .dataframe thead th {\n",
       "        text-align: right;\n",
       "    }\n",
       "</style>\n",
       "<table border=\"1\" class=\"dataframe\">\n",
       "  <thead>\n",
       "    <tr style=\"text-align: right;\">\n",
       "      <th></th>\n",
       "      <th>mpg</th>\n",
       "      <th>cylinders</th>\n",
       "      <th>displacement</th>\n",
       "      <th>weight</th>\n",
       "      <th>acceleration</th>\n",
       "      <th>model year</th>\n",
       "      <th>origin</th>\n",
       "    </tr>\n",
       "  </thead>\n",
       "  <tbody>\n",
       "    <tr>\n",
       "      <th>count</th>\n",
       "      <td>398.000000</td>\n",
       "      <td>398.000000</td>\n",
       "      <td>398.000000</td>\n",
       "      <td>398.000000</td>\n",
       "      <td>398.000000</td>\n",
       "      <td>398.000000</td>\n",
       "      <td>398.000000</td>\n",
       "    </tr>\n",
       "    <tr>\n",
       "      <th>mean</th>\n",
       "      <td>23.514573</td>\n",
       "      <td>5.454774</td>\n",
       "      <td>193.425879</td>\n",
       "      <td>2970.424623</td>\n",
       "      <td>15.568090</td>\n",
       "      <td>76.010050</td>\n",
       "      <td>1.572864</td>\n",
       "    </tr>\n",
       "    <tr>\n",
       "      <th>std</th>\n",
       "      <td>7.815984</td>\n",
       "      <td>1.701004</td>\n",
       "      <td>104.269838</td>\n",
       "      <td>846.841774</td>\n",
       "      <td>2.757689</td>\n",
       "      <td>3.697627</td>\n",
       "      <td>0.802055</td>\n",
       "    </tr>\n",
       "    <tr>\n",
       "      <th>min</th>\n",
       "      <td>9.000000</td>\n",
       "      <td>3.000000</td>\n",
       "      <td>68.000000</td>\n",
       "      <td>1613.000000</td>\n",
       "      <td>8.000000</td>\n",
       "      <td>70.000000</td>\n",
       "      <td>1.000000</td>\n",
       "    </tr>\n",
       "    <tr>\n",
       "      <th>25%</th>\n",
       "      <td>17.500000</td>\n",
       "      <td>4.000000</td>\n",
       "      <td>104.250000</td>\n",
       "      <td>2223.750000</td>\n",
       "      <td>13.825000</td>\n",
       "      <td>73.000000</td>\n",
       "      <td>1.000000</td>\n",
       "    </tr>\n",
       "    <tr>\n",
       "      <th>50%</th>\n",
       "      <td>23.000000</td>\n",
       "      <td>4.000000</td>\n",
       "      <td>148.500000</td>\n",
       "      <td>2803.500000</td>\n",
       "      <td>15.500000</td>\n",
       "      <td>76.000000</td>\n",
       "      <td>1.000000</td>\n",
       "    </tr>\n",
       "    <tr>\n",
       "      <th>75%</th>\n",
       "      <td>29.000000</td>\n",
       "      <td>8.000000</td>\n",
       "      <td>262.000000</td>\n",
       "      <td>3608.000000</td>\n",
       "      <td>17.175000</td>\n",
       "      <td>79.000000</td>\n",
       "      <td>2.000000</td>\n",
       "    </tr>\n",
       "    <tr>\n",
       "      <th>max</th>\n",
       "      <td>46.600000</td>\n",
       "      <td>8.000000</td>\n",
       "      <td>455.000000</td>\n",
       "      <td>5140.000000</td>\n",
       "      <td>24.800000</td>\n",
       "      <td>82.000000</td>\n",
       "      <td>3.000000</td>\n",
       "    </tr>\n",
       "  </tbody>\n",
       "</table>\n",
       "</div>"
      ],
      "text/plain": [
       "              mpg   cylinders  displacement       weight  acceleration  \\\n",
       "count  398.000000  398.000000    398.000000   398.000000    398.000000   \n",
       "mean    23.514573    5.454774    193.425879  2970.424623     15.568090   \n",
       "std      7.815984    1.701004    104.269838   846.841774      2.757689   \n",
       "min      9.000000    3.000000     68.000000  1613.000000      8.000000   \n",
       "25%     17.500000    4.000000    104.250000  2223.750000     13.825000   \n",
       "50%     23.000000    4.000000    148.500000  2803.500000     15.500000   \n",
       "75%     29.000000    8.000000    262.000000  3608.000000     17.175000   \n",
       "max     46.600000    8.000000    455.000000  5140.000000     24.800000   \n",
       "\n",
       "       model year      origin  \n",
       "count  398.000000  398.000000  \n",
       "mean    76.010050    1.572864  \n",
       "std      3.697627    0.802055  \n",
       "min     70.000000    1.000000  \n",
       "25%     73.000000    1.000000  \n",
       "50%     76.000000    1.000000  \n",
       "75%     79.000000    2.000000  \n",
       "max     82.000000    3.000000  "
      ]
     },
     "execution_count": 61,
     "metadata": {},
     "output_type": "execute_result"
    }
   ],
   "source": [
    "file.describe()"
   ]
  },
  {
   "cell_type": "markdown",
   "id": "b7363081-2960-4dbd-b4df-3d741a28d993",
   "metadata": {},
   "source": [
    "2. Filtering and Indexing\n",
    "Find all cars manufactured in 1975 with a weight less than 3000.\n",
    " Return the DataFrame with selected columns: car_name, weight, and mpg."
   ]
  },
  {
   "cell_type": "code",
   "execution_count": 62,
   "id": "cf19ab77-d8f4-411c-a309-e8afd8407fd1",
   "metadata": {},
   "outputs": [],
   "source": [
    "file1 = file[(file['model year']==75) & (file['weight'] < 3000)]"
   ]
  },
  {
   "cell_type": "code",
   "execution_count": 63,
   "id": "7cbd5d1d-0caf-4979-a77b-b75774e50aee",
   "metadata": {},
   "outputs": [],
   "source": [
    "file2 = file1[['car name', 'weight', 'mpg']] "
   ]
  },
  {
   "cell_type": "code",
   "execution_count": 64,
   "id": "58ea3da2-a46d-4ca3-97b1-22b177caf27f",
   "metadata": {},
   "outputs": [
    {
     "name": "stdout",
     "output_type": "stream",
     "text": [
      "File2:\n",
      "              car name  weight   mpg\n",
      "167     toyota corolla    2171  29.0\n",
      "168         ford pinto    2639  23.0\n",
      "169        amc gremlin    2914  20.0\n",
      "170      pontiac astro    2592  23.0\n",
      "171      toyota corona    2702  24.0\n",
      "172  volkswagen dasher    2223  25.0\n",
      "173         datsun 710    2545  24.0\n",
      "174         ford pinto    2984  18.0\n",
      "175  volkswagen rabbit    1937  29.0\n",
      "177         audi 100ls    2694  23.0\n",
      "178        peugeot 504    2957  23.0\n",
      "179        volvo 244dl    2945  22.0\n",
      "180          saab 99le    2671  25.0\n",
      "181   honda civic cvcc    1795  33.0\n"
     ]
    }
   ],
   "source": [
    "print(\"File2:\")\n",
    "print(file2)"
   ]
  },
  {
   "cell_type": "markdown",
   "id": "e664b7a3-2812-44b6-8783-2e72a28a2070",
   "metadata": {},
   "source": [
    "3. Handling Missing Data\n",
    "Identify if there are any missing values in the dataset. Replace missing values in the horsepower column with the column's median."
   ]
  },
  {
   "cell_type": "code",
   "execution_count": 65,
   "id": "f96cd2f3-bf87-4b90-8dc3-4870aa1abb7d",
   "metadata": {},
   "outputs": [
    {
     "data": {
      "text/plain": [
       "mpg             0\n",
       "cylinders       0\n",
       "displacement    0\n",
       "horsepower      0\n",
       "weight          0\n",
       "acceleration    0\n",
       "model year      0\n",
       "origin          0\n",
       "car name        0\n",
       "dtype: int64"
      ]
     },
     "execution_count": 65,
     "metadata": {},
     "output_type": "execute_result"
    }
   ],
   "source": [
    "file.isna().sum()"
   ]
  },
  {
   "cell_type": "code",
   "execution_count": 66,
   "id": "e7bb3e3d-f802-4d60-b27e-26b1f687c19a",
   "metadata": {},
   "outputs": [],
   "source": [
    "file['horsepower'] = pd.to_numeric(file['horsepower'], errors='coerce')"
   ]
  },
  {
   "cell_type": "code",
   "execution_count": 67,
   "id": "e9c64eca-1346-4a3d-ab36-ea91668ccc05",
   "metadata": {},
   "outputs": [],
   "source": [
    "median_horsepower = file['horsepower'].median()"
   ]
  },
  {
   "cell_type": "code",
   "execution_count": 68,
   "id": "f83290f8-9658-4e96-8eb4-a965d7eba552",
   "metadata": {},
   "outputs": [
    {
     "data": {
      "text/plain": [
       "93.5"
      ]
     },
     "execution_count": 68,
     "metadata": {},
     "output_type": "execute_result"
    }
   ],
   "source": [
    "median_horsepower"
   ]
  },
  {
   "cell_type": "code",
   "execution_count": 69,
   "id": "520a943b-cb7d-4784-803e-1623c435dbdd",
   "metadata": {},
   "outputs": [],
   "source": [
    "file4 = file['horsepower'].fillna(median_horsepower)"
   ]
  },
  {
   "cell_type": "code",
   "execution_count": 70,
   "id": "5b59889c-0fe6-4e29-bda2-0ca04f1051c4",
   "metadata": {},
   "outputs": [
    {
     "data": {
      "text/plain": [
       "0      130.0\n",
       "1      165.0\n",
       "2      150.0\n",
       "3      150.0\n",
       "4      140.0\n",
       "       ...  \n",
       "393     86.0\n",
       "394     52.0\n",
       "395     84.0\n",
       "396     79.0\n",
       "397     82.0\n",
       "Name: horsepower, Length: 398, dtype: float64"
      ]
     },
     "execution_count": 70,
     "metadata": {},
     "output_type": "execute_result"
    }
   ],
   "source": [
    "file4"
   ]
  },
  {
   "cell_type": "markdown",
   "id": "36b85503-f63b-4ebc-a7ce-7a21b89dfb68",
   "metadata": {},
   "source": [
    "4. Data Transformation Add a new column power_to_weight_ratio, calculated as horsepower / weight."
   ]
  },
  {
   "cell_type": "code",
   "execution_count": 71,
   "id": "6b8d3d0e-fa2d-406b-8256-6a7105d1d871",
   "metadata": {},
   "outputs": [],
   "source": [
    "file['horsepower'] = pd.to_numeric(file['horsepower'], errors='coerce')"
   ]
  },
  {
   "cell_type": "code",
   "execution_count": 72,
   "id": "2d53072d-57bf-4248-bcfe-7a43fff6b342",
   "metadata": {},
   "outputs": [],
   "source": [
    "file['power_to_weight_ratio'] = file['horsepower'] / file['weight']"
   ]
  },
  {
   "cell_type": "code",
   "execution_count": 73,
   "id": "280f2a42-05b6-4693-8522-c3f4e13bc301",
   "metadata": {},
   "outputs": [
    {
     "data": {
      "text/html": [
       "<div>\n",
       "<style scoped>\n",
       "    .dataframe tbody tr th:only-of-type {\n",
       "        vertical-align: middle;\n",
       "    }\n",
       "\n",
       "    .dataframe tbody tr th {\n",
       "        vertical-align: top;\n",
       "    }\n",
       "\n",
       "    .dataframe thead th {\n",
       "        text-align: right;\n",
       "    }\n",
       "</style>\n",
       "<table border=\"1\" class=\"dataframe\">\n",
       "  <thead>\n",
       "    <tr style=\"text-align: right;\">\n",
       "      <th></th>\n",
       "      <th>mpg</th>\n",
       "      <th>cylinders</th>\n",
       "      <th>displacement</th>\n",
       "      <th>horsepower</th>\n",
       "      <th>weight</th>\n",
       "      <th>acceleration</th>\n",
       "      <th>model year</th>\n",
       "      <th>origin</th>\n",
       "      <th>car name</th>\n",
       "      <th>power_to_weight_ratio</th>\n",
       "    </tr>\n",
       "  </thead>\n",
       "  <tbody>\n",
       "    <tr>\n",
       "      <th>0</th>\n",
       "      <td>18.0</td>\n",
       "      <td>8</td>\n",
       "      <td>307.0</td>\n",
       "      <td>130.0</td>\n",
       "      <td>3504</td>\n",
       "      <td>12.0</td>\n",
       "      <td>70</td>\n",
       "      <td>1</td>\n",
       "      <td>chevrolet chevelle malibu</td>\n",
       "      <td>0.037100</td>\n",
       "    </tr>\n",
       "    <tr>\n",
       "      <th>1</th>\n",
       "      <td>15.0</td>\n",
       "      <td>8</td>\n",
       "      <td>350.0</td>\n",
       "      <td>165.0</td>\n",
       "      <td>3693</td>\n",
       "      <td>11.5</td>\n",
       "      <td>70</td>\n",
       "      <td>1</td>\n",
       "      <td>buick skylark 320</td>\n",
       "      <td>0.044679</td>\n",
       "    </tr>\n",
       "    <tr>\n",
       "      <th>2</th>\n",
       "      <td>18.0</td>\n",
       "      <td>8</td>\n",
       "      <td>318.0</td>\n",
       "      <td>150.0</td>\n",
       "      <td>3436</td>\n",
       "      <td>11.0</td>\n",
       "      <td>70</td>\n",
       "      <td>1</td>\n",
       "      <td>plymouth satellite</td>\n",
       "      <td>0.043655</td>\n",
       "    </tr>\n",
       "    <tr>\n",
       "      <th>3</th>\n",
       "      <td>16.0</td>\n",
       "      <td>8</td>\n",
       "      <td>304.0</td>\n",
       "      <td>150.0</td>\n",
       "      <td>3433</td>\n",
       "      <td>12.0</td>\n",
       "      <td>70</td>\n",
       "      <td>1</td>\n",
       "      <td>amc rebel sst</td>\n",
       "      <td>0.043694</td>\n",
       "    </tr>\n",
       "    <tr>\n",
       "      <th>4</th>\n",
       "      <td>17.0</td>\n",
       "      <td>8</td>\n",
       "      <td>302.0</td>\n",
       "      <td>140.0</td>\n",
       "      <td>3449</td>\n",
       "      <td>10.5</td>\n",
       "      <td>70</td>\n",
       "      <td>1</td>\n",
       "      <td>ford torino</td>\n",
       "      <td>0.040591</td>\n",
       "    </tr>\n",
       "  </tbody>\n",
       "</table>\n",
       "</div>"
      ],
      "text/plain": [
       "    mpg  cylinders  displacement  horsepower  weight  acceleration  \\\n",
       "0  18.0          8         307.0       130.0    3504          12.0   \n",
       "1  15.0          8         350.0       165.0    3693          11.5   \n",
       "2  18.0          8         318.0       150.0    3436          11.0   \n",
       "3  16.0          8         304.0       150.0    3433          12.0   \n",
       "4  17.0          8         302.0       140.0    3449          10.5   \n",
       "\n",
       "   model year  origin                   car name  power_to_weight_ratio  \n",
       "0          70       1  chevrolet chevelle malibu               0.037100  \n",
       "1          70       1          buick skylark 320               0.044679  \n",
       "2          70       1         plymouth satellite               0.043655  \n",
       "3          70       1              amc rebel sst               0.043694  \n",
       "4          70       1                ford torino               0.040591  "
      ]
     },
     "execution_count": 73,
     "metadata": {},
     "output_type": "execute_result"
    }
   ],
   "source": [
    "file.head()"
   ]
  },
  {
   "cell_type": "markdown",
   "id": "167a5828-157e-4d93-a6c8-4eaed2702e63",
   "metadata": {},
   "source": [
    "5. Group By\n",
    "Group the cars by origin and calculate the mean mpg for each group."
   ]
  },
  {
   "cell_type": "code",
   "execution_count": 74,
   "id": "11ed7377-5ee3-4156-9907-1c345f3563b3",
   "metadata": {},
   "outputs": [],
   "source": [
    "file5 = file.groupby('origin')"
   ]
  },
  {
   "cell_type": "code",
   "execution_count": 75,
   "id": "d7584218-9ac3-436a-950e-2b97bdab6eea",
   "metadata": {},
   "outputs": [
    {
     "data": {
      "text/plain": [
       "origin\n",
       "1    20.083534\n",
       "2    27.891429\n",
       "3    30.450633\n",
       "Name: mpg, dtype: float64"
      ]
     },
     "execution_count": 75,
     "metadata": {},
     "output_type": "execute_result"
    }
   ],
   "source": [
    "file5['mpg'].mean()"
   ]
  },
  {
   "cell_type": "markdown",
   "id": "f1840af8-f33e-4bc0-a423-381e890bad42",
   "metadata": {},
   "source": [
    "6. Sorting\n",
    "Sort the DataFrame by mpg in descending order and display the top 10 cars with\n",
    "the highest mpg.\n"
   ]
  },
  {
   "cell_type": "code",
   "execution_count": 76,
   "id": "593262ca-7726-40f5-a8f9-bd2a0777101f",
   "metadata": {},
   "outputs": [],
   "source": [
    "file6 = file.sort_values(by=['mpg'], ascending = False)"
   ]
  },
  {
   "cell_type": "code",
   "execution_count": 77,
   "id": "aa1d660d-cf35-41b2-a287-50a9ce7f5311",
   "metadata": {},
   "outputs": [
    {
     "data": {
      "text/html": [
       "<div>\n",
       "<style scoped>\n",
       "    .dataframe tbody tr th:only-of-type {\n",
       "        vertical-align: middle;\n",
       "    }\n",
       "\n",
       "    .dataframe tbody tr th {\n",
       "        vertical-align: top;\n",
       "    }\n",
       "\n",
       "    .dataframe thead th {\n",
       "        text-align: right;\n",
       "    }\n",
       "</style>\n",
       "<table border=\"1\" class=\"dataframe\">\n",
       "  <thead>\n",
       "    <tr style=\"text-align: right;\">\n",
       "      <th></th>\n",
       "      <th>car name</th>\n",
       "      <th>mpg</th>\n",
       "    </tr>\n",
       "  </thead>\n",
       "  <tbody>\n",
       "    <tr>\n",
       "      <th>322</th>\n",
       "      <td>mazda glc</td>\n",
       "      <td>46.6</td>\n",
       "    </tr>\n",
       "    <tr>\n",
       "      <th>329</th>\n",
       "      <td>honda civic 1500 gl</td>\n",
       "      <td>44.6</td>\n",
       "    </tr>\n",
       "    <tr>\n",
       "      <th>325</th>\n",
       "      <td>vw rabbit c (diesel)</td>\n",
       "      <td>44.3</td>\n",
       "    </tr>\n",
       "    <tr>\n",
       "      <th>394</th>\n",
       "      <td>vw pickup</td>\n",
       "      <td>44.0</td>\n",
       "    </tr>\n",
       "    <tr>\n",
       "      <th>326</th>\n",
       "      <td>vw dasher (diesel)</td>\n",
       "      <td>43.4</td>\n",
       "    </tr>\n",
       "    <tr>\n",
       "      <th>244</th>\n",
       "      <td>volkswagen rabbit custom diesel</td>\n",
       "      <td>43.1</td>\n",
       "    </tr>\n",
       "    <tr>\n",
       "      <th>309</th>\n",
       "      <td>vw rabbit</td>\n",
       "      <td>41.5</td>\n",
       "    </tr>\n",
       "    <tr>\n",
       "      <th>330</th>\n",
       "      <td>renault lecar deluxe</td>\n",
       "      <td>40.9</td>\n",
       "    </tr>\n",
       "    <tr>\n",
       "      <th>324</th>\n",
       "      <td>datsun 210</td>\n",
       "      <td>40.8</td>\n",
       "    </tr>\n",
       "    <tr>\n",
       "      <th>247</th>\n",
       "      <td>datsun b210 gx</td>\n",
       "      <td>39.4</td>\n",
       "    </tr>\n",
       "  </tbody>\n",
       "</table>\n",
       "</div>"
      ],
      "text/plain": [
       "                            car name   mpg\n",
       "322                        mazda glc  46.6\n",
       "329              honda civic 1500 gl  44.6\n",
       "325             vw rabbit c (diesel)  44.3\n",
       "394                        vw pickup  44.0\n",
       "326               vw dasher (diesel)  43.4\n",
       "244  volkswagen rabbit custom diesel  43.1\n",
       "309                        vw rabbit  41.5\n",
       "330             renault lecar deluxe  40.9\n",
       "324                       datsun 210  40.8\n",
       "247                   datsun b210 gx  39.4"
      ]
     },
     "execution_count": 77,
     "metadata": {},
     "output_type": "execute_result"
    }
   ],
   "source": [
    "file6[['car name', 'mpg']].head(10)"
   ]
  },
  {
   "cell_type": "markdown",
   "id": "44d5faa8-026b-46e7-877b-779a8f5c0495",
   "metadata": {},
   "source": [
    "7. Apply this function to each row and store the result in the new column."
   ]
  },
  {
   "cell_type": "markdown",
   "id": "84644d8e-87cf-4445-8415-6a9f144f2e0e",
   "metadata": {},
   "source": [
    "Apply Function\n",
    "Create a new column performance_score using a custom function:\n",
    "def performance_score(row):\n",
    "return row['mpg'] * row['acceleration'] / row['weight']\n"
   ]
  },
  {
   "cell_type": "code",
   "execution_count": 78,
   "id": "40764d91-ca36-44f4-ad73-2cd40d9bf100",
   "metadata": {},
   "outputs": [],
   "source": [
    "def performance_score(row):\n",
    "    return row['mpg'] * row['acceleration'] / row['weight']"
   ]
  },
  {
   "cell_type": "code",
   "execution_count": 79,
   "id": "73e6dd1e-4b32-49bc-a985-62b5c715cf06",
   "metadata": {},
   "outputs": [],
   "source": [
    "file['performance_score'] = file.apply(performance_score, axis=1)"
   ]
  },
  {
   "cell_type": "code",
   "execution_count": 80,
   "id": "8da8b343-a867-4d33-b554-4e434066939a",
   "metadata": {},
   "outputs": [
    {
     "data": {
      "text/plain": [
       "0      0.061644\n",
       "1      0.046710\n",
       "2      0.057625\n",
       "3      0.055928\n",
       "4      0.051754\n",
       "         ...   \n",
       "393    0.150968\n",
       "394    0.508169\n",
       "395    0.161743\n",
       "396    0.198400\n",
       "397    0.221103\n",
       "Name: performance_score, Length: 398, dtype: float64"
      ]
     },
     "execution_count": 80,
     "metadata": {},
     "output_type": "execute_result"
    }
   ],
   "source": [
    "file['performance_score']"
   ]
  },
  {
   "cell_type": "code",
   "execution_count": 81,
   "id": "df4130fd-b10e-4c67-bc83-d7aecc0cef8e",
   "metadata": {},
   "outputs": [
    {
     "name": "stdout",
     "output_type": "stream",
     "text": [
      "                      car name  performance_score\n",
      "0    chevrolet chevelle malibu           0.061644\n",
      "1            buick skylark 320           0.046710\n",
      "2           plymouth satellite           0.057625\n",
      "3                amc rebel sst           0.055928\n",
      "4                  ford torino           0.051754\n",
      "..                         ...                ...\n",
      "393            ford mustang gl           0.150968\n",
      "394                  vw pickup           0.508169\n",
      "395              dodge rampage           0.161743\n",
      "396                ford ranger           0.198400\n",
      "397                 chevy s-10           0.221103\n",
      "\n",
      "[398 rows x 2 columns]\n"
     ]
    }
   ],
   "source": [
    "print(file[['car name', 'performance_score']])"
   ]
  },
  {
   "cell_type": "markdown",
   "id": "32e1fad5-3eba-4f8f-92f6-bd7f8335dc8d",
   "metadata": {},
   "source": [
    "8. Visualization Preparation\n",
    "Generate a summary DataFrame with:\n",
    "○ Average mpg, weight, and horsepower for each model_year."
   ]
  },
  {
   "cell_type": "code",
   "execution_count": 82,
   "id": "6a07ff95-458e-4f2e-8e6a-d0a0b7c92be1",
   "metadata": {},
   "outputs": [],
   "source": [
    "file['horsepower'] = pd.to_numeric(file['horsepower'], errors='coerce')"
   ]
  },
  {
   "cell_type": "code",
   "execution_count": 83,
   "id": "e22025fe-04ab-40ed-9cb5-8757801a6a57",
   "metadata": {},
   "outputs": [],
   "source": [
    "file7 = file.groupby('model year')"
   ]
  },
  {
   "cell_type": "code",
   "execution_count": 84,
   "id": "5cdb6960-2ac2-4918-abcb-6e2333cc4f85",
   "metadata": {},
   "outputs": [],
   "source": [
    "Average_file7 = file7[['mpg', 'weight', 'horsepower']].mean()"
   ]
  },
  {
   "cell_type": "code",
   "execution_count": null,
   "id": "35aedb0c-7757-45d5-b950-8130d28b2133",
   "metadata": {},
   "outputs": [],
   "source": [
    "file8 = pd.DataFrame(Average_file7)"
   ]
  },
  {
   "cell_type": "code",
   "execution_count": null,
   "id": "c67c7522-6182-48f2-9662-25fa447e38f4",
   "metadata": {},
   "outputs": [],
   "source": [
    "file8"
   ]
  },
  {
   "cell_type": "markdown",
   "id": "092406dc-d2fa-4873-944b-c030006315a4",
   "metadata": {},
   "source": [
    "9. Exporting Data\n",
    "Save a subset of the data containing only mpg, cylinders, horsepower, and weight\n",
    "for cars with mpg > 30 into a CSV file named high_mpg_cars.csv."
   ]
  },
  {
   "cell_type": "code",
   "execution_count": null,
   "id": "4d53c6bb-b7c4-4f77-b39d-0cf5c356f676",
   "metadata": {},
   "outputs": [],
   "source": [
    "file8 = file['mpg'] > 30"
   ]
  },
  {
   "cell_type": "code",
   "execution_count": null,
   "id": "50bd779f-2611-4c9a-bfa6-b92e4c46855c",
   "metadata": {},
   "outputs": [],
   "source": [
    "high_mpg_cars = file[file8][['mpg', 'cylinders', 'horsepower', 'weight']]"
   ]
  },
  {
   "cell_type": "code",
   "execution_count": null,
   "id": "4418b81e-3081-4369-b387-2e6615ecf8cd",
   "metadata": {},
   "outputs": [],
   "source": [
    "high_mpg_cars.to_csv(\"high_mpg_cars.csv\")"
   ]
  },
  {
   "cell_type": "code",
   "execution_count": null,
   "id": "2b692d4d-1842-4ace-af05-2207d923110f",
   "metadata": {},
   "outputs": [],
   "source": [
    "high_mpg_cars"
   ]
  },
  {
   "cell_type": "markdown",
   "id": "e872fff1-6a73-46a4-8c8e-a970e92ce774",
   "metadata": {},
   "source": [
    "10. Finding Anomalies\n",
    "Identify potential outliers in the mpg column using the Interquartile Range (IQR)\n",
    "method. Specifically:\n",
    "● Calculate the IQR for mpg.\n",
    "● Define outliers as values less than Q1 - 1.5 * IQR or greater than Q3 +\n",
    "1.5 * IQR.\n",
    "● Create a DataFrame of cars classified as outliers, displaying car_name, mpg,\n",
    "and model_year."
   ]
  },
  {
   "cell_type": "code",
   "execution_count": null,
   "id": "f6fc8d4f-8c3b-42f3-95d3-050a65096999",
   "metadata": {},
   "outputs": [],
   "source": [
    "Q1 = file['mpg'].quantile(0.25)"
   ]
  },
  {
   "cell_type": "code",
   "execution_count": null,
   "id": "10d14027-f053-4562-9685-e47fcb74b088",
   "metadata": {},
   "outputs": [],
   "source": [
    "Q1"
   ]
  },
  {
   "cell_type": "code",
   "execution_count": null,
   "id": "0318b72d-c0d3-4bf1-8657-e7cc390f94d3",
   "metadata": {},
   "outputs": [],
   "source": [
    "Q3 = file['mpg'].quantile(0.75)"
   ]
  },
  {
   "cell_type": "code",
   "execution_count": null,
   "id": "db484373-f15c-4f0b-87f9-226b41410b58",
   "metadata": {},
   "outputs": [],
   "source": [
    "Q3"
   ]
  },
  {
   "cell_type": "code",
   "execution_count": null,
   "id": "290db6f9-cdc5-4695-a197-dcf668b74fe6",
   "metadata": {},
   "outputs": [],
   "source": [
    "IQR = Q3 - Q1"
   ]
  },
  {
   "cell_type": "code",
   "execution_count": null,
   "id": "739568b6-c203-4847-927c-c4d4e62626c3",
   "metadata": {},
   "outputs": [],
   "source": [
    "print(\"IQR for mpg:\", IQR)"
   ]
  },
  {
   "cell_type": "code",
   "execution_count": null,
   "id": "b7b6f3ee-b6a0-4056-8c6c-bd5cc5cf9529",
   "metadata": {},
   "outputs": [],
   "source": [
    "lower_bound = Q1 - 1.5 * IQR"
   ]
  },
  {
   "cell_type": "code",
   "execution_count": null,
   "id": "60da3dd4-c247-4046-8a23-076e4dd2b3fa",
   "metadata": {},
   "outputs": [],
   "source": [
    "lower_bound"
   ]
  },
  {
   "cell_type": "code",
   "execution_count": null,
   "id": "5d180043-e257-49d3-afc5-fa74d2e3a5a1",
   "metadata": {},
   "outputs": [],
   "source": [
    "upper_bound = Q3 + 1.5 * IQR"
   ]
  },
  {
   "cell_type": "code",
   "execution_count": null,
   "id": "61c9a27b-525f-489b-9a01-3c51efdbd2ca",
   "metadata": {},
   "outputs": [],
   "source": [
    "outliers = file[(file['mpg'] < lower_bound) | (file['mpg'] > upper_bound)]"
   ]
  },
  {
   "cell_type": "code",
   "execution_count": null,
   "id": "9de929ff-f227-4f4e-adf2-97c24414515e",
   "metadata": {},
   "outputs": [],
   "source": [
    "outliers[['car name', 'mpg', 'model year']]"
   ]
  },
  {
   "cell_type": "code",
   "execution_count": null,
   "id": "cb0926ce-9efa-4c63-b439-a71a02e90c14",
   "metadata": {},
   "outputs": [],
   "source": []
  }
 ],
 "metadata": {
  "kernelspec": {
   "display_name": "Python 3 (ipykernel)",
   "language": "python",
   "name": "python3"
  },
  "language_info": {
   "codemirror_mode": {
    "name": "ipython",
    "version": 3
   },
   "file_extension": ".py",
   "mimetype": "text/x-python",
   "name": "python",
   "nbconvert_exporter": "python",
   "pygments_lexer": "ipython3",
   "version": "3.12.7"
  }
 },
 "nbformat": 4,
 "nbformat_minor": 5
}
